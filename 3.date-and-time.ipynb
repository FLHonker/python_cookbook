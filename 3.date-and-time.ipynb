{
 "metadata": {
  "language_info": {
   "codemirror_mode": {
    "name": "ipython",
    "version": 3
   },
   "file_extension": ".py",
   "mimetype": "text/x-python",
   "name": "python",
   "nbconvert_exporter": "python",
   "pygments_lexer": "ipython3",
   "version": "3.8.5-final"
  },
  "orig_nbformat": 2,
  "kernelspec": {
   "name": "Python 3.8.5 64-bit",
   "display_name": "Python 3.8.5 64-bit",
   "metadata": {
    "interpreter": {
     "hash": "dce9cd6356a6635a2663a476ca99a023a500e02eb1f88b701a70b8efcb70795f"
    }
   }
  }
 },
 "nbformat": 4,
 "nbformat_minor": 2,
 "cells": [
  {
   "source": [
    "# 3 数字日期和时间\n",
    "\n",
    "Contents:\n",
    "\n",
    "* 3.1 数字的四舍五入\n",
    "* 3.2 执行精确的浮点数运算\n",
    "* 3.3 数字的格式化输出\n",
    "* 3.4 二八十六进制整数\n",
    "* 3.5 字节到大整数的打包与解包\n",
    "* 3.6 复数的数学运算\n",
    "* 3.7 无穷大与NaN\n",
    "* 3.8 分数运算\n",
    "* 3.9 大型数组运算\n",
    "* 3.10 矩阵与线性代数运算\n",
    "* 3.11 随机选择\n",
    "* 3.12 基本的日期与时间转换\n",
    "* 3.13 计算上一个周五的日期\n",
    "* 3.14 计算当前月份的日期范围\n",
    "* 3.15 字符串转换为日期\n",
    "* 3.16 结合时区的日期操作"
   ],
   "cell_type": "markdown",
   "metadata": {}
  },
  {
   "source": [
    "## 3.1 数字的四舍五入\n",
    "\n",
    "ans: 对于简单的舍入运算，使用内置的 `round(value, ndigits)` 函数即可。"
   ],
   "cell_type": "markdown",
   "metadata": {}
  },
  {
   "cell_type": "code",
   "execution_count": 2,
   "metadata": {
    "tags": []
   },
   "outputs": [
    {
     "output_type": "stream",
     "name": "stdout",
     "text": "1.2\n1.3\n-1.3\n1.3\n1627730\n1627700\n1628000\n"
    }
   ],
   "source": [
    "print(round(1.23, 1))\n",
    "print(round(1.27, 1))\n",
    "print(round(-1.27, 1))\n",
    "print(round(1.25361,1))\n",
    "\n",
    "# 当一个值刚好在两个边界的中间的时候， round 函数返回离它最近的偶数。\n",
    "a = 1627731\n",
    "print(round(a, -1))\n",
    "print(round(a, -2))\n",
    "print(round(a, -3))"
   ]
  },
  {
   "cell_type": "code",
   "execution_count": 5,
   "metadata": {
    "tags": []
   },
   "outputs": [
    {
     "output_type": "stream",
     "name": "stdout",
     "text": "1.23\n1.235\nvalue is 1.235\n6.300000000000001\n6.3\n"
    }
   ],
   "source": [
    "# 不要将舍入和格式化输出搞混淆了!\n",
    "x = 1.23456\n",
    "print(format(x, '0.2f'))\n",
    "print(format(x, '0.3f'))\n",
    "print('value is {:0.3f}'.format(x))\n",
    "\n",
    "# 不要试着去舍入浮点值来”修正”表面上看起来正确的问题\n",
    "a = 2.1\n",
    "b = 4.2\n",
    "c = a + b\n",
    "print(c)\n",
    "c = round(c, 2) \n",
    "print(c)"
   ]
  },
  {
   "source": [
    "## 3.2 执行精确的浮点数运算\n",
    "\n",
    "problem: 你需要对浮点数执行精确的计算操作，并且不希望有任何小误差的出现。\n",
    "\n",
    "ans: `decimal` 模块"
   ],
   "cell_type": "markdown",
   "metadata": {}
  },
  {
   "cell_type": "code",
   "execution_count": 7,
   "metadata": {
    "tags": []
   },
   "outputs": [
    {
     "output_type": "stream",
     "name": "stdout",
     "text": "6.300000000000001\nFalse\n"
    }
   ],
   "source": [
    "# 浮点数的一个普遍问题是它们并不能精确的表示十进制数。\n",
    "a = 4.2\n",
    "b = 2.1\n",
    "print(a + b)\n",
    "print(a +b == 6.3)"
   ]
  },
  {
   "cell_type": "code",
   "execution_count": 9,
   "metadata": {
    "tags": []
   },
   "outputs": [
    {
     "output_type": "stream",
     "name": "stdout",
     "text": "6.3\nTrue\n"
    }
   ],
   "source": [
    "from decimal import Decimal\n",
    "a = Decimal('4.2')\n",
    "b = Decimal('2.1')\n",
    "print(a + b)\n",
    "print( a + b == Decimal('6.3'))"
   ]
  },
  {
   "cell_type": "code",
   "execution_count": 12,
   "metadata": {
    "tags": []
   },
   "outputs": [
    {
     "output_type": "stream",
     "name": "stdout",
     "text": "0.7647058823529411764705882353\n0.765\n0.76470588235294117647\n"
    }
   ],
   "source": [
    "# decimal 模块的一个主要特征是允许你控制计算的每一方面，包括数字位数和四舍五入运算。 \n",
    "# 为了这样做，你先得创建一个本地上下文并更改它的设置\n",
    "from decimal import localcontext\n",
    "a = Decimal('1.3')\n",
    "b = Decimal('1.7')\n",
    "print(a / b)\n",
    "with localcontext() as ctx:\n",
    "    ctx.prec = 3\n",
    "    print(a / b)\n",
    "\n",
    "with localcontext() as ctx:\n",
    "    ctx.prec = 20\n",
    "    print(a / b)"
   ]
  },
  {
   "cell_type": "code",
   "execution_count": 14,
   "metadata": {
    "tags": []
   },
   "outputs": [
    {
     "output_type": "stream",
     "name": "stdout",
     "text": "0.0\n1.0\n"
    }
   ],
   "source": [
    "# 你也得注意下减法删除以及大数和小数的加分运算所带来的影响\n",
    "nums = [1.23e+18, 1, -1.23e+18]\n",
    "print(sum(nums))\n",
    "\n",
    "# 解决方法：\n",
    "import math\n",
    "print(math.fsum(nums))"
   ]
  },
  {
   "source": [
    "## 3.3 数字的格式化输出\n",
    "\n",
    "problem: 你需要将数字格式化后输出，并控制数字的位数、对齐、千位分隔符和其他的细节。\n",
    "\n",
    "ans: `format()`"
   ],
   "cell_type": "markdown",
   "metadata": {}
  },
  {
   "cell_type": "code",
   "execution_count": 22,
   "metadata": {
    "tags": []
   },
   "outputs": [
    {
     "output_type": "stream",
     "name": "stdout",
     "text": "1234.57\n    1234.6\n1234.6    \n  1234.6  \n1,234.56789\n1,234.6\n"
    }
   ],
   "source": [
    "# 格式化输出单个数字的时候，可以使用内置的 format() 函数\n",
    "x = 1234.56789\n",
    "# Two decimal places of accuracy\n",
    "print(format(x, '.2f'))\n",
    "# Right justified in 10 chars, one-digit accuracy\n",
    "print(format(x, '>10.1f'))\n",
    "# Left justified\n",
    "print(format(x, '<10.1f'))\n",
    "# Centered\n",
    "print(format(x, '^10.1f'))\n",
    "# Inclusion of thousands separator\n",
    "print(format(x, ','))\n",
    "print(format(x, '0,.1f'))"
   ]
  },
  {
   "cell_type": "code",
   "execution_count": 23,
   "metadata": {
    "tags": []
   },
   "outputs": [
    {
     "output_type": "stream",
     "name": "stdout",
     "text": "1.234568e+03\n1.23E+03\n"
    }
   ],
   "source": [
    "# 如果你想使用指数记法，将f改成e或者E(取决于指数输出的大小写形式)\n",
    "print(format(x, 'e'))\n",
    "print(format(x, '0.2E'))"
   ]
  },
  {
   "cell_type": "code",
   "execution_count": 24,
   "metadata": {
    "tags": []
   },
   "outputs": [
    {
     "output_type": "stream",
     "name": "stdout",
     "text": "The value is 1,234.57\n"
    }
   ],
   "source": [
    "# 同时指定宽度和精度的一般形式是 '[<>^]?width[,]?(.digits)?' \n",
    "# 其中 width 和 digits 为整数，？代表可选部分。 \n",
    "# 同样的格式也被用在字符串的 format() 方法中。\n",
    "print('The value is {:0,.2f}'.format(x))"
   ]
  },
  {
   "source": [
    "## 3.4 二八十六进制整数\n",
    "\n",
    "problem: 你需要转换或者输出使用二进制，八进制或十六进制表示的整数。\n",
    "\n",
    "ans: `bin()`, `oct()`, `hex()`"
   ],
   "cell_type": "markdown",
   "metadata": {}
  },
  {
   "cell_type": "code",
   "execution_count": 27,
   "metadata": {
    "tags": []
   },
   "outputs": [
    {
     "output_type": "stream",
     "name": "stdout",
     "text": "0b10011010010\n0o2322\n0x4d2\n10011010010\n2322\n4d2\n"
    }
   ],
   "source": [
    "x = 1234\n",
    "print(bin(x))\n",
    "print(oct(x))\n",
    "print(hex(x))\n",
    "\n",
    "# 如果你不想输出 0b , 0o 或者 0x 的前缀的话，可以使用 format() 函数\n",
    "print(format(x, 'b'))\n",
    "print(format(x, 'o'))\n",
    "print(format(x, 'x'))"
   ]
  },
  {
   "cell_type": "code",
   "execution_count": 7,
   "metadata": {
    "tags": []
   },
   "outputs": [
    {
     "output_type": "stream",
     "name": "stdout",
     "text": "-10011010010\n-4d2\n11111111111111111111101100101110\nfffffb2e\n"
    }
   ],
   "source": [
    "# 整数是有符号的，所以如果你在处理负数的话，输出结果会包含一个负号\n",
    "x = -1234\n",
    "print(format(x, 'b'))\n",
    "print(format(x, 'x'))\n",
    "\n",
    "# 如果你想产生一个无符号值，你需要增加一个指示最大位长度的值\n",
    "print(format(2**32 + x, 'b'))\n",
    "print(format(2**32 + x, 'x'))"
   ]
  },
  {
   "cell_type": "code",
   "execution_count": 9,
   "metadata": {
    "tags": []
   },
   "outputs": [
    {
     "output_type": "stream",
     "name": "stdout",
     "text": "1234\n1234\n"
    }
   ],
   "source": [
    "# 为了以不同的进制转换整数字符串，简单的使用带有进制的 int() 函数即可\n",
    "print(int('4d2', 16))\n",
    "print(int('10011010010', 2))"
   ]
  },
  {
   "source": [
    "使用八进制的程序员有一点需要注意下。 Python指定八进制数的语法跟其他语言稍有不同。比如，如果你像下面这样指定八进制，会出现语法错误:"
   ],
   "cell_type": "markdown",
   "metadata": {}
  },
  {
   "cell_type": "code",
   "execution_count": 12,
   "metadata": {},
   "outputs": [],
   "source": [
    "import os\n",
    "# os.chmod('script.py', 0755)  # ERROR!\n",
    "os.chmod('script.py', 0o755)  # 0o"
   ]
  },
  {
   "source": [
    "## 3.5 字节到大整数的打包与解包\n",
    "\n",
    "problem: 你有一个字节字符串并想将它解压成一个整数。或者，你需要将一个大整数转换为一个字节字符串。\n",
    "\n",
    "ans: `int.from_bytes()`, `int.to_bytes()`"
   ],
   "cell_type": "markdown",
   "metadata": {}
  },
  {
   "cell_type": "code",
   "execution_count": 16,
   "metadata": {
    "tags": []
   },
   "outputs": [
    {
     "output_type": "stream",
     "name": "stdout",
     "text": "16\n69120565665751139577663547927094891008\n94522842520747284487117727783387188\n"
    }
   ],
   "source": [
    "data = b'\\x00\\x124V\\x00x\\x90\\xab\\x00\\xcd\\xef\\x01\\x00#\\x004'\n",
    "print(len(data))\n",
    "print(int.from_bytes(data, 'little'))\n",
    "print(int.from_bytes(data, 'big'))"
   ]
  },
  {
   "cell_type": "code",
   "execution_count": 21,
   "metadata": {
    "tags": []
   },
   "outputs": [
    {
     "output_type": "stream",
     "name": "stdout",
     "text": "b'\\x00\\x124V\\x00x\\x90\\xab\\x00\\xcd\\xef\\x01\\x00#\\x004'\nb'4\\x00#\\x00\\x01\\xef\\xcd\\x00\\xab\\x90x\\x00V4\\x12\\x00'\n"
    }
   ],
   "source": [
    "# 为了将一个大整数转换为一个字节字符串，使用 int.to_bytes() 方法，并像下面这样指定字节数和字节顺序\n",
    "x = 94522842520747284487117727783387188\n",
    "print(x.to_bytes(16, 'big'))\n",
    "print(x.to_bytes(16, 'little'))"
   ]
  },
  {
   "cell_type": "code",
   "execution_count": 22,
   "metadata": {},
   "outputs": [
    {
     "output_type": "execute_result",
     "data": {
      "text/plain": "94522842520747284487117727783387188"
     },
     "metadata": {},
     "execution_count": 22
    }
   ],
   "source": [
    "# 解压多个字节串并将结果合并为最终的结果\n",
    "data\n",
    "b'\\x00\\x124V\\x00x\\x90\\xab\\x00\\xcd\\xef\\x01\\x00#\\x004'\n",
    "import struct\n",
    "hi, lo = struct.unpack('>QQ', data)\n",
    "(hi << 64) + lo"
   ]
  },
  {
   "cell_type": "code",
   "execution_count": 24,
   "metadata": {
    "tags": []
   },
   "outputs": [
    {
     "output_type": "stream",
     "name": "stdout",
     "text": "b'\\x01\\x02\\x03\\x04'\nb'\\x04\\x03\\x02\\x01'\n"
    }
   ],
   "source": [
    "# 字节顺序规则(little或big)仅仅指定了构建整数时的字节的低位高位排列方式\n",
    "x = 0x01020304\n",
    "print(x.to_bytes(4, 'big'))\n",
    "print(x.to_bytes(4, 'little'))"
   ]
  },
  {
   "cell_type": "code",
   "execution_count": 27,
   "metadata": {
    "tags": []
   },
   "outputs": [
    {
     "output_type": "stream",
     "name": "stdout",
     "text": "335381300113661875107536852714019056160355655333978849017944067\n208\nb'\\x03X\\xf1\\x82iT\\x96\\xac\\xc7c\\x16\\xf3\\xb9\\xcf\\x18\\xee\\xec\\x91\\xd1\\x98\\xa2\\xc8\\xd9R\\xb5\\xd0'\n"
    }
   ],
   "source": [
    "# 使用 int.bit_length() 方法来决定需要多少字节位来存储这个值\n",
    "x = 523 ** 23\n",
    "print(x)\n",
    "print(x.bit_length())\n",
    "nbytes, rem = divmod(x.bit_length(), 8)\n",
    "if rem:\n",
    "    nbytes += 1\n",
    "\n",
    "print(x.to_bytes(nbytes, 'little'))"
   ]
  },
  {
   "source": [
    "## 3.6 复数的数学运算\n",
    "\n",
    "problem: 你写的最新的网络认证方案代码遇到了一个难题，并且你唯一的解决办法就是使用复数空间。 再或者是你仅仅需要使用复数来执行一些计算操作。\n",
    "\n",
    "ans: 复数可以用使用函数 `complex(real, imag)` 或者是带有后缀j的浮点数来指定。"
   ],
   "cell_type": "markdown",
   "metadata": {}
  },
  {
   "cell_type": "code",
   "execution_count": 3,
   "metadata": {
    "tags": []
   },
   "outputs": [
    {
     "output_type": "stream",
     "name": "stdout",
     "text": "(2+4j)\n(3-5j)\n2.0\n4.0\n(2-4j)\na+b =  (5-1j)\na*b =  (26+2j)\na/b =  (-0.4117647058823529+0.6470588235294118j)\n|a| =  4.47213595499958\n"
    }
   ],
   "source": [
    "a = complex(2, 4)\n",
    "b = 3 - 5j\n",
    "print(a)\n",
    "print(b)\n",
    "\n",
    "# 对应的实部、虚部和共轭复数可以很容易的获取\n",
    "print(a.real)\n",
    "print(a.imag)\n",
    "print(a.conjugate())  # 共轭复数\n",
    "\n",
    "# 另外，所有常见的数学运算都可以工作：\n",
    "print('a+b = ', a + b)\n",
    "print('a*b = ', a * b)\n",
    "print('a/b = ', a / b)\n",
    "print('|a| = ', abs(a))"
   ]
  },
  {
   "cell_type": "code",
   "execution_count": 4,
   "metadata": {
    "tags": []
   },
   "outputs": [
    {
     "output_type": "stream",
     "name": "stdout",
     "text": "(24.83130584894638-11.356612711218174j)\n(-11.36423470640106-24.814651485634187j)\n(-4.829809383269385-5.5920560936409816j)\n"
    }
   ],
   "source": [
    "# 如果要执行其他的复数函数比如正弦、余弦或平方根，使用 cmath 模块\n",
    "import cmath\n",
    "print(cmath.sin(a))\n",
    "print(cmath.cos(a))\n",
    "print(cmath.exp(a))"
   ]
  },
  {
   "cell_type": "code",
   "execution_count": 8,
   "metadata": {
    "tags": []
   },
   "outputs": [
    {
     "output_type": "stream",
     "name": "stdout",
     "text": "[2.+3.j 4.+5.j 6.-7.j 8.+9.j]\n[ 4.+3.j  6.+5.j  8.-7.j 10.+9.j]\n[   9.15449915  -4.16890696j  -56.16227422 -48.50245524j\n -153.20827755-526.47684926j 4008.42651446-589.49948373j]\n"
    }
   ],
   "source": [
    "# Python中大部分与数学相关的模块都能处理复数。\n",
    "# 比如如果你使用 numpy ，可以很容易的构造一个复数数组并在这个数组上执行各种操作:\n",
    "import numpy as np\n",
    "a = np.array([2+3j, 4+5j, 6-7j, 8+9j])\n",
    "print(a)\n",
    "print(a + 2)\n",
    "print(np.sin(a))"
   ]
  },
  {
   "source": [
    "Python的标准数学函数确实情况下并不能产生复数值，因此你的代码中不可能会出现复数返回值。\n",
    "如果你想生成一个复数返回结果，你必须显示的使用 cmath 模块，或者在某个支持复数的库中声明复数类型的使用。"
   ],
   "cell_type": "markdown",
   "metadata": {}
  },
  {
   "cell_type": "code",
   "execution_count": 9,
   "metadata": {
    "tags": []
   },
   "outputs": [
    {
     "output_type": "stream",
     "name": "stdout",
     "text": "1j\n"
    }
   ],
   "source": [
    "import cmath\n",
    "print(cmath.sqrt(-1))"
   ]
  },
  {
   "source": [
    "## 3.7 无穷大与NaN\n",
    "\n",
    "problem: 你想创建或测试正无穷、负无穷或NaN(非数字)的浮点数。\n",
    "\n",
    "ans: Python并没有特殊的语法来表示这些特殊的浮点值，但是可以使用 `float()` 来创建它们。"
   ],
   "cell_type": "markdown",
   "metadata": {}
  },
  {
   "cell_type": "code",
   "execution_count": 13,
   "metadata": {
    "tags": []
   },
   "outputs": [
    {
     "output_type": "stream",
     "name": "stdout",
     "text": "inf -inf nan\nTrue\nTrue\n"
    }
   ],
   "source": [
    "a = float('inf')\n",
    "b = float('-inf')\n",
    "c = float('nan')\n",
    "print(a, b, c)\n",
    "\n",
    "# 为了测试这些值的存在，使用 math.isinf() 和 math.isnan() 函数。\n",
    "import math\n",
    "print(math.isinf(a))\n",
    "print(math.isnan(c))"
   ]
  },
  {
   "cell_type": "code",
   "execution_count": 24,
   "metadata": {
    "tags": []
   },
   "outputs": [
    {
     "output_type": "stream",
     "name": "stdout",
     "text": "inf\ninf\n0.0\nnan\nnan\nnan\nnan\nnan\nnan\nFalse\nFalse\n"
    }
   ],
   "source": [
    "# 无穷大数在执行数学计算的时候会传播\n",
    "a = float('inf')\n",
    "print(a + 45)\n",
    "print(a + 10)\n",
    "print(10 / a)\n",
    "\n",
    "# 但是有些操作时未定义的并会返回一个NaN结果\n",
    "print(a / a)\n",
    "b = float('-inf')\n",
    "print(a + b)\n",
    "\n",
    "# NaN值会在所有操作中传播，而不会产生异常\n",
    "c = float('nan')\n",
    "print(c + 23)\n",
    "print(c / 2)\n",
    "print(c * 2)\n",
    "print(math.sqrt(c))\n",
    "\n",
    "# NaN值的一个特别的地方时它们之间的比较操作总是返回False\n",
    "d = float('nan')\n",
    "print(c == d)\n",
    "print(c is d)\n",
    "# 由于这个原因，测试一个NaN值得唯一安全的方法就是使用 math.isnan()"
   ]
  },
  {
   "source": [
    "## 3.8 分数运算\n",
    "\n",
    "problem: 分数运算，不是小数运算\n",
    "\n",
    "ans: `fractions`模块"
   ],
   "cell_type": "markdown",
   "metadata": {}
  },
  {
   "cell_type": "code",
   "execution_count": 39,
   "metadata": {
    "tags": []
   },
   "outputs": [
    {
     "output_type": "stream",
     "name": "stdout",
     "text": "27/16\n35 64\n0.546875\n4/7\n15/4\n"
    }
   ],
   "source": [
    "# fractions 模块可以被用来执行包含分数的数学运算\n",
    "from fractions import Fraction\n",
    "a = Fraction(5, 4)\n",
    "b = Fraction(7, 16)\n",
    "print(a + b)\n",
    "\n",
    "# Getting numerator/denominator\n",
    "c = a * b\n",
    "print(c.numerator, c.denominator)\n",
    "\n",
    "# Converting to a float\n",
    "print(float(c))\n",
    "\n",
    "# Limiting the denominator of a value\n",
    "print(c.limit_denominator(8))\n",
    "\n",
    "# Converting a float to a fraction\n",
    "x = 3.75\n",
    "y = Fraction(*x.as_integer_ratio())\n",
    "print(y)"
   ]
  },
  {
   "source": [
    "## 3.9 大型数组运算\n",
    "\n",
    "problem: 你需要在大数据集(比如数组或网格)上面执行计算。\n",
    "\n",
    "ans: 涉及到数组的重量级运算操作，可以使用 `NumPy` 库。"
   ],
   "cell_type": "markdown",
   "metadata": {}
  },
  {
   "cell_type": "code",
   "execution_count": 43,
   "metadata": {
    "tags": []
   },
   "outputs": [
    {
     "output_type": "stream",
     "name": "stdout",
     "text": "[1, 2, 3, 4, 1, 2, 3, 4]\n[1, 2, 3, 4, 5, 6, 7, 8]\n"
    }
   ],
   "source": [
    "# Python lists\n",
    "x = [1, 2, 3, 4]\n",
    "y = [5, 6, 7, 8]\n",
    "print(x * 2)\n",
    "# print(x + 10)   # ERROR!\n",
    "print(x + y)"
   ]
  },
  {
   "cell_type": "code",
   "execution_count": 46,
   "metadata": {
    "tags": []
   },
   "outputs": [
    {
     "output_type": "stream",
     "name": "stdout",
     "text": "[3 4 5 6]\n[ 6  8 10 12]\n[ 5 12 21 32]\n"
    }
   ],
   "source": [
    "# Numpy arrays\n",
    "import numpy as np\n",
    "ax = np.array([1, 2, 3, 4])\n",
    "ay = np.array([5, 6, 7, 8])\n",
    "print(ax + 2)\n",
    "print(ax + ay)\n",
    "print(ax * ay)"
   ]
  },
  {
   "cell_type": "code",
   "execution_count": 47,
   "metadata": {},
   "outputs": [
    {
     "output_type": "execute_result",
     "data": {
      "text/plain": "array([ 8, 15, 28, 47])"
     },
     "metadata": {},
     "execution_count": 47
    }
   ],
   "source": [
    "# 计算多项式的值\n",
    "def f(x):\n",
    "    return 3*x**2 - 2*x + 7\n",
    "\n",
    "f(ax)"
   ]
  },
  {
   "cell_type": "code",
   "execution_count": 48,
   "metadata": {
    "tags": []
   },
   "outputs": [
    {
     "output_type": "stream",
     "name": "stdout",
     "text": "[1.         1.41421356 1.73205081 2.        ]\n[ 0.54030231 -0.41614684 -0.9899925  -0.65364362]\n"
    }
   ],
   "source": [
    "# NumPy 还为数组操作提供了大量的通用函数，这些函数可以作为 math 模块中类似函数的替代。\n",
    "print(np.sqrt(ax))\n",
    "print(np.cos(ax))"
   ]
  },
  {
   "source": [
    "使用这些通用函数要比循环数组并使用 math 模块中的函数执行计算要快的多。 因此，只要有可能的话尽量选择 NumPy 的数组方案。"
   ],
   "cell_type": "markdown",
   "metadata": {}
  },
  {
   "source": [
    "底层实现中， NumPy 数组使用了C或者Fortran语言的机制分配内存。 也就是说，它们是一个非常大的连续的并由同类型数据组成的内存区域。 所以，你可以构造一个比普通Python列表大的多的数组。 比如，如果你想构造一个10,000*10,000的浮点数二维网格，很轻松："
   ],
   "cell_type": "markdown",
   "metadata": {}
  },
  {
   "cell_type": "code",
   "execution_count": 51,
   "metadata": {
    "tags": []
   },
   "outputs": [
    {
     "output_type": "stream",
     "name": "stdout",
     "text": "[[0. 0. 0. ... 0. 0. 0.]\n [0. 0. 0. ... 0. 0. 0.]\n [0. 0. 0. ... 0. 0. 0.]\n ...\n [0. 0. 0. ... 0. 0. 0.]\n [0. 0. 0. ... 0. 0. 0.]\n [0. 0. 0. ... 0. 0. 0.]]\n[[10. 10. 10. ... 10. 10. 10.]\n [10. 10. 10. ... 10. 10. 10.]\n [10. 10. 10. ... 10. 10. 10.]\n ...\n [10. 10. 10. ... 10. 10. 10.]\n [10. 10. 10. ... 10. 10. 10.]\n [10. 10. 10. ... 10. 10. 10.]]\n[[-0.54402111 -0.54402111 -0.54402111 ... -0.54402111 -0.54402111\n  -0.54402111]\n [-0.54402111 -0.54402111 -0.54402111 ... -0.54402111 -0.54402111\n  -0.54402111]\n [-0.54402111 -0.54402111 -0.54402111 ... -0.54402111 -0.54402111\n  -0.54402111]\n ...\n [-0.54402111 -0.54402111 -0.54402111 ... -0.54402111 -0.54402111\n  -0.54402111]\n [-0.54402111 -0.54402111 -0.54402111 ... -0.54402111 -0.54402111\n  -0.54402111]\n [-0.54402111 -0.54402111 -0.54402111 ... -0.54402111 -0.54402111\n  -0.54402111]]\n"
    }
   ],
   "source": [
    "grid = np.zeros(shape=(10000,10000), dtype=float)\n",
    "print(grid)\n",
    "grid += 10\n",
    "print(grid)\n",
    "print(np.sin(grid))"
   ]
  },
  {
   "cell_type": "code",
   "execution_count": 59,
   "metadata": {
    "tags": []
   },
   "outputs": [
    {
     "output_type": "stream",
     "name": "stdout",
     "text": "[[ 1  2  3  4]\n [ 5  6  7  8]\n [ 9 10 11 12]]\n[5 6 7 8]\n[ 2  6 10]\n[[ 6  7]\n [10 11]]\n[[ 1  2  3  4]\n [ 5 16 17  8]\n [ 9 20 21 12]]\n[[101 103 105 107]\n [105 117 119 111]\n [109 121 123 115]]\n[[ 1  2  3  4]\n [ 5 10 10  8]\n [ 9 10 10 10]]\n"
    }
   ],
   "source": [
    "# numpy 多维数组\n",
    "a = np.array([[1, 2, 3, 4], [5, 6, 7, 8], [9, 10, 11, 12]])\n",
    "print(a)\n",
    "# Select row 1\n",
    "print(a[1])\n",
    "# Select column 1\n",
    "print(a[:, 1])\n",
    "# Select a subregion and change it\n",
    "print(a[1:3, 1:3])\n",
    "\n",
    "a[1:3, 1:3] += 10\n",
    "print(a)\n",
    "\n",
    "# Broadcast a row vector across an operation on all rows\n",
    "b = a + [100, 101, 102, 103]\n",
    "print(b)\n",
    "\n",
    "# Conditional assignment on an array\n",
    "print(np.where(a < 10, a, 10))"
   ]
  },
  {
   "source": [
    "## 3.10 矩阵与线性代数运算\n",
    "\n",
    "problem: 你需要执行矩阵和线性代数运算，比如矩阵乘法、寻找行列式、求解线性方程组等等。\n",
    "\n",
    "ans: `NumPy` 库矩阵对象 - `np.matrix`"
   ],
   "cell_type": "markdown",
   "metadata": {}
  },
  {
   "cell_type": "code",
   "execution_count": 4,
   "metadata": {
    "tags": []
   },
   "outputs": [
    {
     "output_type": "stream",
     "name": "stdout",
     "text": "[[ 1 -2  3]\n [ 0  4  5]\n [ 7  8 -9]]\n[[ 1  0  7]\n [-2  4  8]\n [ 3  5 -9]]\n[[ 0.33043478 -0.02608696  0.09565217]\n [-0.15217391  0.13043478  0.02173913]\n [ 0.12173913  0.09565217 -0.0173913 ]]\n[[2]\n [3]\n [4]]\n[[ 8]\n [32]\n [ 2]]\n"
    }
   ],
   "source": [
    "import numpy as np\n",
    "m = np.matrix([[1,-2,3],[0,4,5],[7,8,-9]])\n",
    "print(m)\n",
    "# Return transpose\n",
    "print(m.T)\n",
    "# Return inverse\n",
    "print(m.I)\n",
    "\n",
    "# create a vector and multiply\n",
    "v = np.matrix([[2], [3], [4]])\n",
    "print(v)\n",
    "print(m * v)"
   ]
  },
  {
   "cell_type": "code",
   "execution_count": null,
   "metadata": {},
   "outputs": [],
   "source": [
    "import numpy.linalg\n"
   ]
  }
 ]
}