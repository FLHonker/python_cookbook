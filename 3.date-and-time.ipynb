{
 "metadata": {
  "language_info": {
   "codemirror_mode": {
    "name": "ipython",
    "version": 3
   },
   "file_extension": ".py",
   "mimetype": "text/x-python",
   "name": "python",
   "nbconvert_exporter": "python",
   "pygments_lexer": "ipython3",
   "version": "3.8.5-final"
  },
  "orig_nbformat": 2,
  "kernelspec": {
   "name": "Python 3.8.5 64-bit",
   "display_name": "Python 3.8.5 64-bit",
   "metadata": {
    "interpreter": {
     "hash": "dce9cd6356a6635a2663a476ca99a023a500e02eb1f88b701a70b8efcb70795f"
    }
   }
  }
 },
 "nbformat": 4,
 "nbformat_minor": 2,
 "cells": [
  {
   "source": [
    "# 3 数字日期和时间\n",
    "\n",
    "Contents:\n",
    "\n",
    "* 3.1 数字的四舍五入\n",
    "* 3.2 执行精确的浮点数运算\n",
    "* 3.3 数字的格式化输出\n",
    "* 3.4 二八十六进制整数\n",
    "* 3.5 字节到大整数的打包与解包\n",
    "* 3.6 复数的数学运算\n",
    "* 3.7 无穷大与NaN\n",
    "* 3.8 分数运算\n",
    "* 3.9 大型数组运算\n",
    "* 3.10 矩阵与线性代数运算\n",
    "* 3.11 随机选择\n",
    "* 3.12 基本的日期与时间转换\n",
    "* 3.13 计算上一个周五的日期\n",
    "* 3.14 计算当前月份的日期范围\n",
    "* 3.15 字符串转换为日期\n",
    "* 3.16 结合时区的日期操作"
   ],
   "cell_type": "markdown",
   "metadata": {}
  },
  {
   "source": [
    "## 3.1 数字的四舍五入\n",
    "\n",
    "ans: 对于简单的舍入运算，使用内置的 `round(value, ndigits)` 函数即可。"
   ],
   "cell_type": "markdown",
   "metadata": {}
  },
  {
   "cell_type": "code",
   "execution_count": 2,
   "metadata": {
    "tags": []
   },
   "outputs": [
    {
     "output_type": "stream",
     "name": "stdout",
     "text": "1.2\n1.3\n-1.3\n1.3\n1627730\n1627700\n1628000\n"
    }
   ],
   "source": [
    "print(round(1.23, 1))\n",
    "print(round(1.27, 1))\n",
    "print(round(-1.27, 1))\n",
    "print(round(1.25361,1))\n",
    "\n",
    "# 当一个值刚好在两个边界的中间的时候， round 函数返回离它最近的偶数。\n",
    "a = 1627731\n",
    "print(round(a, -1))\n",
    "print(round(a, -2))\n",
    "print(round(a, -3))"
   ]
  },
  {
   "cell_type": "code",
   "execution_count": 5,
   "metadata": {
    "tags": []
   },
   "outputs": [
    {
     "output_type": "stream",
     "name": "stdout",
     "text": "1.23\n1.235\nvalue is 1.235\n6.300000000000001\n6.3\n"
    }
   ],
   "source": [
    "# 不要将舍入和格式化输出搞混淆了!\n",
    "x = 1.23456\n",
    "print(format(x, '0.2f'))\n",
    "print(format(x, '0.3f'))\n",
    "print('value is {:0.3f}'.format(x))\n",
    "\n",
    "# 不要试着去舍入浮点值来”修正”表面上看起来正确的问题\n",
    "a = 2.1\n",
    "b = 4.2\n",
    "c = a + b\n",
    "print(c)\n",
    "c = round(c, 2) \n",
    "print(c)"
   ]
  },
  {
   "source": [
    "## 3.2 执行精确的浮点数运算\n",
    "\n",
    "problem: 你需要对浮点数执行精确的计算操作，并且不希望有任何小误差的出现。\n",
    "\n",
    "ans: `decimal` 模块"
   ],
   "cell_type": "markdown",
   "metadata": {}
  },
  {
   "cell_type": "code",
   "execution_count": 7,
   "metadata": {
    "tags": []
   },
   "outputs": [
    {
     "output_type": "stream",
     "name": "stdout",
     "text": "6.300000000000001\nFalse\n"
    }
   ],
   "source": [
    "# 浮点数的一个普遍问题是它们并不能精确的表示十进制数。\n",
    "a = 4.2\n",
    "b = 2.1\n",
    "print(a + b)\n",
    "print(a +b == 6.3)"
   ]
  },
  {
   "cell_type": "code",
   "execution_count": 9,
   "metadata": {
    "tags": []
   },
   "outputs": [
    {
     "output_type": "stream",
     "name": "stdout",
     "text": "6.3\nTrue\n"
    }
   ],
   "source": [
    "from decimal import Decimal\n",
    "a = Decimal('4.2')\n",
    "b = Decimal('2.1')\n",
    "print(a + b)\n",
    "print( a + b == Decimal('6.3'))"
   ]
  },
  {
   "cell_type": "code",
   "execution_count": 12,
   "metadata": {
    "tags": []
   },
   "outputs": [
    {
     "output_type": "stream",
     "name": "stdout",
     "text": "0.7647058823529411764705882353\n0.765\n0.76470588235294117647\n"
    }
   ],
   "source": [
    "# decimal 模块的一个主要特征是允许你控制计算的每一方面，包括数字位数和四舍五入运算。 \n",
    "# 为了这样做，你先得创建一个本地上下文并更改它的设置\n",
    "from decimal import localcontext\n",
    "a = Decimal('1.3')\n",
    "b = Decimal('1.7')\n",
    "print(a / b)\n",
    "with localcontext() as ctx:\n",
    "    ctx.prec = 3\n",
    "    print(a / b)\n",
    "\n",
    "with localcontext() as ctx:\n",
    "    ctx.prec = 20\n",
    "    print(a / b)"
   ]
  },
  {
   "cell_type": "code",
   "execution_count": 14,
   "metadata": {
    "tags": []
   },
   "outputs": [
    {
     "output_type": "stream",
     "name": "stdout",
     "text": "0.0\n1.0\n"
    }
   ],
   "source": [
    "# 你也得注意下减法删除以及大数和小数的加分运算所带来的影响\n",
    "nums = [1.23e+18, 1, -1.23e+18]\n",
    "print(sum(nums))\n",
    "\n",
    "# 解决方法：\n",
    "import math\n",
    "print(math.fsum(nums))"
   ]
  },
  {
   "source": [
    "## 3.3 数字的格式化输出\n",
    "\n",
    "problem: 你需要将数字格式化后输出，并控制数字的位数、对齐、千位分隔符和其他的细节。\n",
    "\n",
    "ans: `format()`"
   ],
   "cell_type": "markdown",
   "metadata": {}
  },
  {
   "cell_type": "code",
   "execution_count": 22,
   "metadata": {
    "tags": []
   },
   "outputs": [
    {
     "output_type": "stream",
     "name": "stdout",
     "text": "1234.57\n    1234.6\n1234.6    \n  1234.6  \n1,234.56789\n1,234.6\n"
    }
   ],
   "source": [
    "# 格式化输出单个数字的时候，可以使用内置的 format() 函数\n",
    "x = 1234.56789\n",
    "# Two decimal places of accuracy\n",
    "print(format(x, '.2f'))\n",
    "# Right justified in 10 chars, one-digit accuracy\n",
    "print(format(x, '>10.1f'))\n",
    "# Left justified\n",
    "print(format(x, '<10.1f'))\n",
    "# Centered\n",
    "print(format(x, '^10.1f'))\n",
    "# Inclusion of thousands separator\n",
    "print(format(x, ','))\n",
    "print(format(x, '0,.1f'))"
   ]
  },
  {
   "cell_type": "code",
   "execution_count": 23,
   "metadata": {
    "tags": []
   },
   "outputs": [
    {
     "output_type": "stream",
     "name": "stdout",
     "text": "1.234568e+03\n1.23E+03\n"
    }
   ],
   "source": [
    "# 如果你想使用指数记法，将f改成e或者E(取决于指数输出的大小写形式)\n",
    "print(format(x, 'e'))\n",
    "print(format(x, '0.2E'))"
   ]
  },
  {
   "cell_type": "code",
   "execution_count": 24,
   "metadata": {
    "tags": []
   },
   "outputs": [
    {
     "output_type": "stream",
     "name": "stdout",
     "text": "The value is 1,234.57\n"
    }
   ],
   "source": [
    "# 同时指定宽度和精度的一般形式是 '[<>^]?width[,]?(.digits)?' \n",
    "# 其中 width 和 digits 为整数，？代表可选部分。 \n",
    "# 同样的格式也被用在字符串的 format() 方法中。\n",
    "print('The value is {:0,.2f}'.format(x))"
   ]
  },
  {
   "source": [
    "## 3.4 二八十六进制整数\n",
    "\n",
    "problem: 你需要转换或者输出使用二进制，八进制或十六进制表示的整数。\n",
    "\n",
    "ans: `bin()`, `oct()`, `hex()`"
   ],
   "cell_type": "markdown",
   "metadata": {}
  },
  {
   "cell_type": "code",
   "execution_count": 27,
   "metadata": {
    "tags": []
   },
   "outputs": [
    {
     "output_type": "stream",
     "name": "stdout",
     "text": "0b10011010010\n0o2322\n0x4d2\n10011010010\n2322\n4d2\n"
    }
   ],
   "source": [
    "x = 1234\n",
    "print(bin(x))\n",
    "print(oct(x))\n",
    "print(hex(x))\n",
    "\n",
    "# 如果你不想输出 0b , 0o 或者 0x 的前缀的话，可以使用 format() 函数\n",
    "print(format(x, 'b'))\n",
    "print(format(x, 'o'))\n",
    "print(format(x, 'x'))"
   ]
  },
  {
   "cell_type": "code",
   "execution_count": 28,
   "metadata": {},
   "outputs": [],
   "source": [
    "# 整数是有符号的，所以如果你在处理负数的话，输出结果会包含一个负号\n",
    "x = -1234"
   ]
  }
 ]
}