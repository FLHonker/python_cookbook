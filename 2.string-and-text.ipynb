{
 "metadata": {
  "language_info": {
   "codemirror_mode": {
    "name": "ipython",
    "version": 3
   },
   "file_extension": ".py",
   "mimetype": "text/x-python",
   "name": "python",
   "nbconvert_exporter": "python",
   "pygments_lexer": "ipython3",
   "version": "3.7.5-final"
  },
  "orig_nbformat": 2,
  "kernelspec": {
   "name": "python_defaultSpec_1599440641691",
   "display_name": "Python 3.7.5 64-bit"
  }
 },
 "nbformat": 4,
 "nbformat_minor": 2,
 "cells": [
  {
   "cell_type": "markdown",
   "metadata": {},
   "source": [
    "# 2 字符串和文本"
   ]
  },
  {
   "cell_type": "markdown",
   "metadata": {},
   "source": [
    "## 2.1 使用多个界定符分割字符串\n",
    "\n",
    "problem: 你需要将一个字符串分割为多个字段，但是分隔符(还有周围的空格) 并不是固定的。\n",
    "\n",
    "ans: string 对象的split() 方法, re.split()"
   ]
  },
  {
   "cell_type": "code",
   "execution_count": 1,
   "metadata": {},
   "outputs": [
    {
     "output_type": "execute_result",
     "data": {
      "text/plain": "['asdf', 'fjdk', 'afed', 'fjek', 'asdf', 'foo']"
     },
     "metadata": {},
     "execution_count": 1
    }
   ],
   "source": [
    "line = 'asdf fjdk; afed, fjek,asdf, foo'\n",
    "import re\n",
    "re.split(r'[;,\\s]\\s*', line)"
   ]
  },
  {
   "cell_type": "code",
   "execution_count": 10,
   "metadata": {
    "tags": []
   },
   "outputs": [
    {
     "output_type": "stream",
     "name": "stdout",
     "text": "['asdf', ' ', 'fjdk', ';', 'afed', ',', 'fjek', ',', 'asdf', ',', 'foo']\n['asdf', 'fjdk', 'afed', 'fjek', 'asdf', 'foo']\n[' ', ';', ',', ',', ',', '']\n"
    },
    {
     "output_type": "execute_result",
     "data": {
      "text/plain": "'asdf fjdk;afed,fjek,asdf,foo'"
     },
     "metadata": {},
     "execution_count": 10
    }
   ],
   "source": [
    "# 括号捕获分组\n",
    "fields = re.split(r'(;|,|\\s)\\s*', line)\n",
    "print(fields)\n",
    "\n",
    "# 保留分割字符串, 构造新字符串\n",
    "values = fields[::2]    # start=0, step=2, 偶数号\n",
    "delimiters = fields[1::2] + ['']    # start=1, step=2, 奇数号\n",
    "print(values)\n",
    "print(delimiters)\n",
    "\n",
    "# Reform the line using the same delimiters\n",
    "''.join(v+d for v,d in zip(values, delimiters))"
   ]
  },
  {
   "cell_type": "markdown",
   "metadata": {},
   "source": [
    "## 2.2 字符串开头或结尾匹配\n",
    "\n",
    "problem: 你需要通过指定的文本模式去检查字符串的开头或者结尾，比如文件名后缀，URL Scheme 等等。\n",
    "\n",
    "ans: str.startswith() 或者是str.endswith() 方法"
   ]
  },
  {
   "cell_type": "code",
   "execution_count": 15,
   "metadata": {},
   "outputs": [
    {
     "output_type": "execute_result",
     "data": {
      "text/plain": "True"
     },
     "metadata": {},
     "execution_count": 15
    }
   ],
   "source": [
    "# 检查字符串开头或结尾\n",
    "filename = 'spam.txt'\n",
    "filename.endswith('.txt')\n",
    "filename.startswith('file:')\n",
    "url = 'https://www.python.org'\n",
    "url.startswith('https:')"
   ]
  },
  {
   "cell_type": "code",
   "execution_count": 21,
   "metadata": {
    "tags": []
   },
   "outputs": [
    {
     "output_type": "stream",
     "name": "stdout",
     "text": "['2.string and text.ipynb']\n['2.string and text.ipynb']\n"
    },
    {
     "output_type": "execute_result",
     "data": {
      "text/plain": "True"
     },
     "metadata": {},
     "execution_count": 21
    }
   ],
   "source": [
    "# 检查多种匹配可能, use tuple\n",
    "import os\n",
    "\n",
    "filenames = os.listdir('.')\n",
    "print(filenames)\n",
    "ipynb = [name for name in filenames if name.endswith('.ipynb')]\n",
    "print(ipynb)\n",
    "any(name.endswith('.ipynb') for name in filenames)"
   ]
  },
  {
   "cell_type": "code",
   "execution_count": 25,
   "metadata": {},
   "outputs": [
    {
     "output_type": "execute_result",
     "data": {
      "text/plain": "True"
     },
     "metadata": {},
     "execution_count": 25
    }
   ],
   "source": [
    "from urllib.request import urlopen\n",
    "\n",
    "def read_data(name):\n",
    "    if name.startswith(('http:', 'https:', 'ftp:')):  # input tuple\n",
    "        return urlopen(name).read()\n",
    "    else:\n",
    "        with open(name) as f:\n",
    "            return f.read()\n",
    "\n",
    "# # input tuple\n",
    "choices = ['https:', 'ftp:']\n",
    "url = 'https://www.python.org'\n",
    "url.startswith(tuple(choices)) \n",
    "read_data(url)"
   ]
  },
  {
   "cell_type": "code",
   "execution_count": 29,
   "metadata": {},
   "outputs": [
    {
     "output_type": "execute_result",
     "data": {
      "text/plain": "<re.Match object; span=(0, 6), match='https:'>"
     },
     "metadata": {},
     "execution_count": 29
    }
   ],
   "source": [
    "# slice\n",
    "filename = 'spam.txt'\n",
    "filename[-4:] == '.txt'\n",
    "url = 'https://www.python.org'\n",
    "url[:6] == 'https:' or url[:5] == 'http:' or url[:4] == 'ftp:'\n",
    "\n",
    "# re\n",
    "import re\n",
    "re.match('http:|https:|ftp:', url)"
   ]
  },
  {
   "cell_type": "markdown",
   "metadata": {},
   "source": [
    "## 2.3 用Shell 通配符匹配字符串\n",
    "\n",
    "problem: 你想使用Unix Shell 中常用的通配符(比如\\*.py , Dat\\[0-9\\]\\*.csv 等) 去匹配文本字符串。\n",
    "\n",
    "ans: fnmatch 模块提供了两个函数——fnmatch() 和fnmatchcase() ，可以用来实现这样的匹配。"
   ]
  },
  {
   "cell_type": "code",
   "execution_count": 32,
   "metadata": {},
   "outputs": [
    {
     "output_type": "execute_result",
     "data": {
      "text/plain": "['Dat1.csv', 'Dat2.csv']"
     },
     "metadata": {},
     "execution_count": 32
    }
   ],
   "source": [
    "from fnmatch import fnmatch, fnmatchcase\n",
    "\n",
    "fnmatch('foo.txt', '*.txt')\n",
    "fnmatch('foo.txt', '?txt')\n",
    "fnmatch('Dat45.csv', 'Dat[0-9]*')\n",
    "names = ['Dat1.csv', 'Dat2.csv', 'config.ini', 'foo.py']\n",
    "[name for name in names if fnmatch(name, 'Dat*.csv')]"
   ]
  },
  {
   "cell_type": "code",
   "execution_count": 34,
   "metadata": {},
   "outputs": [
    {
     "output_type": "execute_result",
     "data": {
      "text/plain": "True"
     },
     "metadata": {},
     "execution_count": 34
    }
   ],
   "source": [
    "# fnmatch() 函数使用底层操作系统的大小写敏感规则(不同的系统是不一样的) 来匹配模式\n",
    "fnmatch('foo.txt', '*.TXT')\n",
    "# fnmatchcase\n",
    "fnmatchcase('foo.txt', '*.TXT')"
   ]
  },
  {
   "cell_type": "code",
   "execution_count": 36,
   "metadata": {
    "tags": []
   },
   "outputs": [
    {
     "output_type": "stream",
     "name": "stdout",
     "text": "['5412 N CLARK ST', '1060 W ADDISON ST', '2122 N CLARK ST']\n['5412 N CLARK ST']\n"
    }
   ],
   "source": [
    "# 处理非文件名的字符串\n",
    "addresses = [\n",
    "    '5412 N CLARK ST',\n",
    "    '1060 W ADDISON ST',\n",
    "    '1039 W GRANVILLE AVE',\n",
    "    '2122 N CLARK ST',\n",
    "    '4802 N BROADWAY',\n",
    "]\n",
    "\n",
    "from fnmatch import fnmatchcase\n",
    "ls = [addr for addr in addresses if fnmatchcase(addr, '*ST')]\n",
    "print(ls)\n",
    "ls = [addr for addr in addresses if fnmatchcase(addr, '54[0-9][0-9] *CLARK*')]\n",
    "print(ls)"
   ]
  },
  {
   "cell_type": "markdown",
   "metadata": {},
   "source": [
    "## 2.4 字符串匹配和搜索\n",
    "\n",
    "problem: 你想匹配或者搜索特定模式的文本。\n",
    "\n",
    "ans: str.find(), str.endswith(), str.startswith(), etc. | re"
   ]
  },
  {
   "cell_type": "code",
   "execution_count": null,
   "metadata": {},
   "outputs": [],
   "source": [
    "text = 'yeah, but no, but yeah, but no, but yeah'\n",
    "# Exact match\n"
   ]
  }
 ]
}