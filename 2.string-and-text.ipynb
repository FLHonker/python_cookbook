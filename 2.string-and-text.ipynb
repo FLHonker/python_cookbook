{
 "metadata": {
  "language_info": {
   "codemirror_mode": {
    "name": "ipython",
    "version": 3
   },
   "file_extension": ".py",
   "mimetype": "text/x-python",
   "name": "python",
   "nbconvert_exporter": "python",
   "pygments_lexer": "ipython3",
   "version": "3.8.5-final"
  },
  "orig_nbformat": 2,
  "kernelspec": {
   "name": "python_defaultSpec_1601046043660",
   "display_name": "Python 3.8.5 64-bit"
  }
 },
 "nbformat": 4,
 "nbformat_minor": 2,
 "cells": [
  {
   "cell_type": "markdown",
   "metadata": {},
   "source": [
    "# 2 字符串和文本\n",
    "\n",
    "Contents:\n",
    "\n",
    "* 2.1 使用多个界定符分割字符串\n",
    "* 2.2 字符串开头或结尾匹配\n",
    "* 2.3 用Shell通配符匹配字符串\n",
    "* 2.4 字符串匹配和搜索\n",
    "* 2.5 字符串搜索和替换\n",
    "* 2.6 字符串忽略大小写的搜索替换\n",
    "* 2.7 最短匹配模式\n",
    "* 2.8 多行匹配模式\n",
    "* 2.9 将Unicode文本标准化\n",
    "* 2.10 在正则式中使用Unicode\n",
    "* 2.11 删除字符串中不需要的字符\n",
    "* 2.12 审查清理文本字符串\n",
    "* 2.13 字符串对齐\n",
    "* 2.14 合并拼接字符串\n",
    "* 2.15 字符串中插入变量\n",
    "* 2.16 以指定列宽格式化字符串\n",
    "* 2.17 在字符串中处理html和xml\n",
    "* 2.18 字符串令牌解析\n",
    "* 2.19 实现一个简单的递归下降分析器\n",
    "* 2.20 字节字符串上的字符串操作"
   ]
  },
  {
   "cell_type": "markdown",
   "metadata": {},
   "source": [
    "## 2.1 使用多个界定符分割字符串\n",
    "\n",
    "problem: 你需要将一个字符串分割为多个字段，但是分隔符(还有周围的空格) 并不是固定的。\n",
    "\n",
    "ans: string 对象的split() 方法, re.split()"
   ]
  },
  {
   "cell_type": "code",
   "execution_count": 1,
   "metadata": {},
   "outputs": [
    {
     "output_type": "execute_result",
     "data": {
      "text/plain": "['asdf', 'fjdk', 'afed', 'fjek', 'asdf', 'foo']"
     },
     "metadata": {},
     "execution_count": 1
    }
   ],
   "source": [
    "line = 'asdf fjdk; afed, fjek,asdf, foo'\n",
    "import re\n",
    "re.split(r'[;,\\s]\\s*', line)"
   ]
  },
  {
   "cell_type": "code",
   "execution_count": 10,
   "metadata": {
    "tags": []
   },
   "outputs": [
    {
     "output_type": "stream",
     "name": "stdout",
     "text": "['asdf', ' ', 'fjdk', ';', 'afed', ',', 'fjek', ',', 'asdf', ',', 'foo']\n['asdf', 'fjdk', 'afed', 'fjek', 'asdf', 'foo']\n[' ', ';', ',', ',', ',', '']\n"
    },
    {
     "output_type": "execute_result",
     "data": {
      "text/plain": "'asdf fjdk;afed,fjek,asdf,foo'"
     },
     "metadata": {},
     "execution_count": 10
    }
   ],
   "source": [
    "# 括号捕获分组\n",
    "fields = re.split(r'(;|,|\\s)\\s*', line)\n",
    "print(fields)\n",
    "\n",
    "# 保留分割字符串, 构造新字符串\n",
    "values = fields[::2]    # start=0, step=2, 偶数号\n",
    "delimiters = fields[1::2] + ['']    # start=1, step=2, 奇数号\n",
    "print(values)\n",
    "print(delimiters)\n",
    "\n",
    "# Reform the line using the same delimiters\n",
    "''.join(v+d for v,d in zip(values, delimiters))"
   ]
  },
  {
   "cell_type": "markdown",
   "metadata": {},
   "source": [
    "## 2.2 字符串开头或结尾匹配\n",
    "\n",
    "problem: 你需要通过指定的文本模式去检查字符串的开头或者结尾，比如文件名后缀，URL Scheme 等等。\n",
    "\n",
    "ans: str.startswith() 或者是str.endswith() 方法"
   ]
  },
  {
   "cell_type": "code",
   "execution_count": 15,
   "metadata": {},
   "outputs": [
    {
     "output_type": "execute_result",
     "data": {
      "text/plain": "True"
     },
     "metadata": {},
     "execution_count": 15
    }
   ],
   "source": [
    "# 检查字符串开头或结尾\n",
    "filename = 'spam.txt'\n",
    "filename.endswith('.txt')\n",
    "filename.startswith('file:')\n",
    "url = 'https://www.python.org'\n",
    "url.startswith('https:')"
   ]
  },
  {
   "cell_type": "code",
   "execution_count": 21,
   "metadata": {
    "tags": []
   },
   "outputs": [
    {
     "output_type": "stream",
     "name": "stdout",
     "text": "['2.string and text.ipynb']\n['2.string and text.ipynb']\n"
    },
    {
     "output_type": "execute_result",
     "data": {
      "text/plain": "True"
     },
     "metadata": {},
     "execution_count": 21
    }
   ],
   "source": [
    "# 检查多种匹配可能, use tuple\n",
    "import os\n",
    "\n",
    "filenames = os.listdir('.')\n",
    "print(filenames)\n",
    "ipynb = [name for name in filenames if name.endswith('.ipynb')]\n",
    "print(ipynb)\n",
    "any(name.endswith('.ipynb') for name in filenames)"
   ]
  },
  {
   "cell_type": "code",
   "execution_count": 25,
   "metadata": {},
   "outputs": [
    {
     "output_type": "execute_result",
     "data": {
      "text/plain": "True"
     },
     "metadata": {},
     "execution_count": 25
    }
   ],
   "source": [
    "from urllib.request import urlopen\n",
    "\n",
    "def read_data(name):\n",
    "    if name.startswith(('http:', 'https:', 'ftp:')):  # input tuple\n",
    "        return urlopen(name).read()\n",
    "    else:\n",
    "        with open(name) as f:\n",
    "            return f.read()\n",
    "\n",
    "# # input tuple\n",
    "choices = ['https:', 'ftp:']\n",
    "url = 'https://www.python.org'\n",
    "url.startswith(tuple(choices)) \n",
    "read_data(url)"
   ]
  },
  {
   "cell_type": "code",
   "execution_count": 29,
   "metadata": {},
   "outputs": [
    {
     "output_type": "execute_result",
     "data": {
      "text/plain": "<re.Match object; span=(0, 6), match='https:'>"
     },
     "metadata": {},
     "execution_count": 29
    }
   ],
   "source": [
    "# slice\n",
    "filename = 'spam.txt'\n",
    "filename[-4:] == '.txt'\n",
    "url = 'https://www.python.org'\n",
    "url[:6] == 'https:' or url[:5] == 'http:' or url[:4] == 'ftp:'\n",
    "\n",
    "# re\n",
    "import re\n",
    "re.match('http:|https:|ftp:', url)"
   ]
  },
  {
   "cell_type": "markdown",
   "metadata": {},
   "source": [
    "## 2.3 用Shell 通配符匹配字符串\n",
    "\n",
    "problem: 你想使用Unix Shell 中常用的通配符(比如\\*.py , Dat\\[0-9\\]\\*.csv 等) 去匹配文本字符串。\n",
    "\n",
    "ans: fnmatch 模块提供了两个函数——fnmatch() 和fnmatchcase() ，可以用来实现这样的匹配。"
   ]
  },
  {
   "cell_type": "code",
   "execution_count": 32,
   "metadata": {},
   "outputs": [
    {
     "output_type": "execute_result",
     "data": {
      "text/plain": "['Dat1.csv', 'Dat2.csv']"
     },
     "metadata": {},
     "execution_count": 32
    }
   ],
   "source": [
    "from fnmatch import fnmatch, fnmatchcase\n",
    "\n",
    "fnmatch('foo.txt', '*.txt')\n",
    "fnmatch('foo.txt', '?txt')\n",
    "fnmatch('Dat45.csv', 'Dat[0-9]*')\n",
    "names = ['Dat1.csv', 'Dat2.csv', 'config.ini', 'foo.py']\n",
    "[name for name in names if fnmatch(name, 'Dat*.csv')]"
   ]
  },
  {
   "cell_type": "code",
   "execution_count": 34,
   "metadata": {},
   "outputs": [
    {
     "output_type": "execute_result",
     "data": {
      "text/plain": "True"
     },
     "metadata": {},
     "execution_count": 34
    }
   ],
   "source": [
    "# fnmatch() 函数使用底层操作系统的大小写敏感规则(不同的系统是不一样的) 来匹配模式\n",
    "fnmatch('foo.txt', '*.TXT')\n",
    "# fnmatchcase\n",
    "fnmatchcase('foo.txt', '*.TXT')"
   ]
  },
  {
   "cell_type": "code",
   "execution_count": 36,
   "metadata": {
    "tags": []
   },
   "outputs": [
    {
     "output_type": "stream",
     "name": "stdout",
     "text": "['5412 N CLARK ST', '1060 W ADDISON ST', '2122 N CLARK ST']\n['5412 N CLARK ST']\n"
    }
   ],
   "source": [
    "# 处理非文件名的字符串\n",
    "addresses = [\n",
    "    '5412 N CLARK ST',\n",
    "    '1060 W ADDISON ST',\n",
    "    '1039 W GRANVILLE AVE',\n",
    "    '2122 N CLARK ST',\n",
    "    '4802 N BROADWAY',\n",
    "]\n",
    "\n",
    "from fnmatch import fnmatchcase\n",
    "ls = [addr for addr in addresses if fnmatchcase(addr, '*ST')]\n",
    "print(ls)\n",
    "ls = [addr for addr in addresses if fnmatchcase(addr, '54[0-9][0-9] *CLARK*')]\n",
    "print(ls)"
   ]
  },
  {
   "cell_type": "markdown",
   "metadata": {},
   "source": [
    "## 2.4 字符串匹配和搜索\n",
    "\n",
    "problem: 你想匹配或者搜索特定模式的文本。\n",
    "\n",
    "ans: str.find(), str.endswith(), str.startswith(), etc. | re"
   ]
  },
  {
   "cell_type": "code",
   "execution_count": 2,
   "metadata": {
    "tags": []
   },
   "outputs": [
    {
     "output_type": "stream",
     "name": "stdout",
     "text": "False\nTrue\nFalse\n10\n"
    }
   ],
   "source": [
    "text = 'yeah, but no, but yeah, but no, but yeah'\n",
    "# Exact match\n",
    "print(text == 'yeah')\n",
    "# Match at start or end\n",
    "print(text.startswith('yeah'))\n",
    "print(text.endswith('no'))\n",
    "# Search for the location of the first occurrence\n",
    "print(text.find('no'))"
   ]
  },
  {
   "cell_type": "code",
   "execution_count": 2,
   "metadata": {
    "tags": []
   },
   "outputs": [
    {
     "output_type": "stream",
     "name": "stdout",
     "text": "yes\nno\n"
    }
   ],
   "source": [
    "# 对于复杂的匹配需要使用正则表达式和 re 模块\n",
    "text1 = '11/27/2012'\n",
    "text2 = 'Nov 27, 2012'\n",
    "\n",
    "import re\n",
    "# Simple matching: \\d+ means match one or more digits\n",
    "if re.match(r'\\d+/\\d+/\\d+', text1):\n",
    "    print('yes')\n",
    "else: \n",
    "    print('no')\n",
    "\n",
    "if re.match(r'\\d+/\\d+/\\d+', text2):\n",
    "    print('yes')\n",
    "else:\n",
    "    print('no')"
   ]
  },
  {
   "cell_type": "code",
   "execution_count": 5,
   "metadata": {
    "tags": []
   },
   "outputs": [
    {
     "output_type": "stream",
     "name": "stdout",
     "text": "yes\nno\n"
    }
   ],
   "source": [
    "# 如果你想使用同一个模式去做多次匹配，你应该先将模式字符串预编译为模式对象\n",
    "datepet = re.compile(r'\\d+/\\d+/\\d+')\n",
    "if datepet.match(text1):\n",
    "    print('yes')\n",
    "else: \n",
    "    print('no')\n",
    "\n",
    "if datepet.match(text2):\n",
    "    print('yes')\n",
    "else:\n",
    "    print('no')"
   ]
  },
  {
   "cell_type": "code",
   "execution_count": 6,
   "metadata": {},
   "outputs": [
    {
     "output_type": "execute_result",
     "data": {
      "text/plain": "['11/27/2012', '3/13/2013']"
     },
     "metadata": {},
     "execution_count": 6
    }
   ],
   "source": [
    "# match() 总是从字符串开始去匹配，\n",
    "# 如果你想查找字符串任意部分的模式出现位置， 使用 findall() 方法去代替。\n",
    "text = 'Today is 11/27/2012. PyCon starts 3/13/2013.'\n",
    "datepet.findall(text)"
   ]
  },
  {
   "cell_type": "code",
   "execution_count": 15,
   "metadata": {
    "tags": []
   },
   "outputs": [
    {
     "output_type": "stream",
     "name": "stdout",
     "text": "<re.Match object; span=(0, 10), match='11/27/2012'>\n11/27/2012\n11\n27\n('11', '27', '2012')\n2012-11-27\n2013-3-13\n"
    }
   ],
   "source": [
    "# 在定义正则式的时候，通常会利用括号去捕获分组\n",
    "datepet = re.compile(r'(\\d+)/(\\d+)/(\\d+)')\n",
    "\n",
    "# 捕获分组可以使得后面的处理更加简单，因为可以分别将每个组的内容提取出来\n",
    "m = datepet.match('11/27/2012')\n",
    "print(m)\n",
    "\n",
    "# Extract the contents of each group\n",
    "print(m.group(0))\n",
    "print(m.group(1))\n",
    "print(m.group(2))\n",
    "print(m.groups())\n",
    "\n",
    "month, day, year = m.groups()\n",
    "# Find all matches (notice splitting into tuples)\n",
    "text = 'Today is 11/27/2012. PyCon starts 3/13/2013.'\n",
    "datepet.findall(text)\n",
    "for month, day, year in datepet.findall(text):\n",
    "    print('{}-{}-{}'.format(year, month, day))"
   ]
  },
  {
   "cell_type": "code",
   "execution_count": 16,
   "metadata": {
    "tags": []
   },
   "outputs": [
    {
     "output_type": "stream",
     "name": "stdout",
     "text": "('11', '27', '2012')\n('3', '13', '2013')\n"
    }
   ],
   "source": [
    "# findall() 方法会搜索文本并以列表形式返回所有的匹配\n",
    "# 如果你想以迭代方式返回匹配，可以使用 finditer() 方法来代替\n",
    "for m in datepet.finditer(text):\n",
    "    print(m.groups())"
   ]
  },
  {
   "cell_type": "code",
   "execution_count": 18,
   "metadata": {
    "tags": []
   },
   "outputs": [
    {
     "output_type": "stream",
     "name": "stdout",
     "text": "<re.Match object; span=(0, 10), match='11/27/2012'>\n11/27/2012\n"
    },
    {
     "output_type": "execute_result",
     "data": {
      "text/plain": "<re.Match object; span=(0, 10), match='11/27/2012'>"
     },
     "metadata": {},
     "execution_count": 18
    }
   ],
   "source": [
    "# 需要注意的是 match() 方法仅仅检查字符串的开始部分\n",
    "m = datepet.match('11/27/2012abcdef')\n",
    "print(m)\n",
    "print(m.group())\n",
    "\n",
    "# 如果你想精确匹配，确保你的正则表达式以$结尾\n",
    "datepet = re.compile(r'(\\d+)/(\\d+)/(\\d+)$')\n",
    "datepet.match('11/27/2012abcdef')\n",
    "datepet.match('11/27/2012')"
   ]
  },
  {
   "cell_type": "code",
   "execution_count": 19,
   "metadata": {},
   "outputs": [
    {
     "output_type": "execute_result",
     "data": {
      "text/plain": "[('11', '27', '2012'), ('3', '13', '2013')]"
     },
     "metadata": {},
     "execution_count": 19
    }
   ],
   "source": [
    "# 如果你仅仅是做一次简单的文本匹配/搜索操作的话，可以略过编译部分，直接使用 re 模块级别的函数\n",
    "re.findall(r'(\\d+)/(\\d+)/(\\d+)', text)\n",
    "\n",
    "# 如果你打算做大量的匹配和搜索操作的话，最好先编译正则表达式，然后再重复使用它。"
   ]
  },
  {
   "source": [
    "## 2.5 字符串搜索和替换\n",
    "\n",
    "problem: 你想在字符串中搜索和匹配指定的文本模式\n",
    "\n",
    "ans: str.replace(), re.sub()"
   ],
   "cell_type": "markdown",
   "metadata": {}
  },
  {
   "cell_type": "code",
   "execution_count": 2,
   "metadata": {
    "tags": []
   },
   "outputs": [
    {
     "output_type": "stream",
     "name": "stdout",
     "text": "yeah, but no, but yeah, but no, but yeah\n"
    },
    {
     "output_type": "execute_result",
     "data": {
      "text/plain": "'Today is 2012-11-27. PyCon starts 2013-3-13.'"
     },
     "metadata": {},
     "execution_count": 2
    }
   ],
   "source": [
    "# 对于简单的字面模式，直接使用 str.replace() 方法即可\n",
    "text = 'yeah, but no, but yeah, but no, but yeah'\n",
    "print(text.replace('year', 'yep'))\n",
    "\n",
    "# 对于复杂的模式，请使用 re 模块中的 sub() 函数\n",
    "text = 'Today is 11/27/2012. PyCon starts 3/13/2013.'\n",
    "import re\n",
    "# 将形式为 11/27/2012 的日期字符串改成 2012-11-27\n",
    "re.sub(r'(\\d+)/(\\d+)/(\\d+)', r'\\3-\\1-\\2', text)\n",
    "# sub() 函数中的第一个参数是被匹配的模式，第二个参数是替换模式\n",
    "# 反斜杠数字比如 \\3 指向前面模式的捕获组号。"
   ]
  },
  {
   "cell_type": "code",
   "execution_count": 5,
   "metadata": {
    "tags": []
   },
   "outputs": [
    {
     "output_type": "stream",
     "name": "stdout",
     "text": "Today is 2012-11-27. PyCon starts 2013-3-13.\nToday is 27 Nov 2012. PyCon starts 13 Mar 2013.\nToday is 2012-11-27. PyCon starts 2013-3-13. 2\n"
    }
   ],
   "source": [
    "# 如果你打算用相同的模式做多次替换，考虑先编译它来提升性能\n",
    "import re\n",
    "datepet = re.compile(r'(\\d+)/(\\d+)/(\\d+)')\n",
    "print(datepet.sub(r'\\3-\\1-\\2', text))\n",
    "\n",
    "# 对于更加复杂的替换，可以传递一个替换回调函数来代替\n",
    "# 一个替换回调函数的参数是一个 match 对象，也就是 match() 或者 find() 返回的对象。 \n",
    "from calendar import month_abbr\n",
    "def change_date(m):\n",
    "    mon_name = month_abbr[int(m.group(1))]\n",
    "    return '{} {} {}'.format(m.group(2), mon_name, m.group(3))\n",
    "print(datepet.sub(change_date, text))\n",
    "\n",
    "# 如果除了替换后的结果外，你还想知道有多少替换发生了，可以使用 re.subn() 来代替\n",
    "newtext, n = datepet.subn(r'\\3-\\1-\\2', text)\n",
    "print(newtext, n)"
   ]
  },
  {
   "source": [
    "## 2.6 字符串忽略大小写的搜索替换\n",
    "\n",
    "problem: 你需要以忽略大小写的方式搜索与替换文本字符串\n",
    "\n",
    "ans: `re.IGNORECASE` 标志参数"
   ],
   "cell_type": "markdown",
   "metadata": {}
  },
  {
   "cell_type": "code",
   "execution_count": 12,
   "metadata": {
    "tags": []
   },
   "outputs": [
    {
     "output_type": "stream",
     "name": "stdout",
     "text": "['PYTHON', 'python', 'Python']\nUPPER snake, lower snake, Mixed snake\nUPPER SNAKE, lower snake, Mixed Snake\n"
    }
   ],
   "source": [
    "import re\n",
    "text = 'UPPER PYTHON, lower python, Mixed Python'\n",
    "m = re.findall('python', text, flags=re.IGNORECASE)\n",
    "print(m)\n",
    "m = re.sub('python', 'snake', text, flags=re.IGNORECASE)\n",
    "print(m)\n",
    "\n",
    "# 替换字符串自动跟被匹配字符串的大小写保持一致\n",
    "def matchcase(word):\n",
    "    def replace(m):\n",
    "        text = m.group()\n",
    "        if text.isupper():\n",
    "            return word.upper()\n",
    "        elif text.islower():\n",
    "            return word.lower()\n",
    "        elif text[0].isupper():\n",
    "            return word.capitalize()\n",
    "        else:\n",
    "            return word\n",
    "    return replace\n",
    "\n",
    "m = re.sub('python', matchcase('snake'), text, flags=re.IGNORECASE)\n",
    "print(m)"
   ]
  },
  {
   "source": [
    "## 2.7 最短匹配模式\n",
    "\n",
    "problem: 你正在试着用正则表达式匹配某个文本模式，但是它找到的是模式的最长可能匹配。 而你想修改它变成查找最短的可能匹配。\n",
    "\n",
    "ans: `?` 修饰符"
   ],
   "cell_type": "markdown",
   "metadata": {}
  },
  {
   "cell_type": "code",
   "execution_count": 14,
   "metadata": {
    "tags": []
   },
   "outputs": [
    {
     "output_type": "stream",
     "name": "stdout",
     "text": "['no']\n['no.\" Phone says \"yes.']\n['no.', 'yes.']\n"
    }
   ],
   "source": [
    "# 这个问题一般出现在需要匹配一对分隔符之间的文本的时候(比如引号包含的字符串)\n",
    "str_pat = re.compile(r'\"(.*)\"')\n",
    "text1 = 'Computer says \"no\".'\n",
    "m = str_pat.findall(text1)\n",
    "print(m)\n",
    "\n",
    "# 在这个例子中，模式 r'\\\"(.*)\\\"' 的意图是匹配被双引号包含的文本。 \n",
    "# 但是在正则表达式中*操作符是贪婪的，因此匹配操作会查找最长的可能匹配。\n",
    "text2 = 'Computer says \"no.\" Phone says \"yes.\"'\n",
    "m = str_pat.findall(text2)\n",
    "print(m)\n",
    "\n",
    "# 为了修正这个问题，可以在模式中的*操作符后面加上?修饰符\n",
    "str_pat = re.compile(r'\"(.*?)\"')\n",
    "m = str_pat.findall(text2)\n",
    "print(m)"
   ]
  },
  {
   "source": [
    "## 2.8 多行匹配模式\n",
    "\n",
    "problem: 你正在试着使用正则表达式去匹配一大块的文本，而你需要跨越多行去匹配。"
   ],
   "cell_type": "markdown",
   "metadata": {}
  },
  {
   "cell_type": "code",
   "execution_count": 21,
   "metadata": {
    "tags": []
   },
   "outputs": [
    {
     "output_type": "stream",
     "name": "stdout",
     "text": "[' this is a comment ']\n[' this is a comment ']\n"
    }
   ],
   "source": [
    "import re\n",
    "comment = re.compile(r'/\\*(.*?)\\*/')\n",
    "text1 = '/* this is a comment */'\n",
    "text2 = '''/* this is a\n",
    " multiline comment */\n",
    "'''\n",
    "m = comment.findall(text1)\n",
    "print(m)\n",
    "comment.findall(text2)\n",
    "print(m)"
   ]
  },
  {
   "cell_type": "code",
   "execution_count": 22,
   "metadata": {
    "tags": []
   },
   "outputs": [
    {
     "output_type": "stream",
     "name": "stdout",
     "text": "[' this is a\\n multiline comment ']\n"
    }
   ],
   "source": [
    "# 为了修正这个问题，你可以修改模式字符串，增加对换行的支持\n",
    "comment = re.compile(r'/\\*((?:.|\\n)*?)\\*/')\n",
    "m = comment.findall(text2)\n",
    "print(m)\n",
    "\n",
    "# (?:.|\\n) 指定了一个非捕获组 (也就是它定义了一个仅仅用来做匹配，而不能通过单独捕获或者编号的组)"
   ]
  },
  {
   "cell_type": "code",
   "execution_count": 23,
   "metadata": {
    "tags": []
   },
   "outputs": [
    {
     "output_type": "stream",
     "name": "stdout",
     "text": "[' this is a\\n multiline comment ']\n"
    }
   ],
   "source": [
    "# re.compile() 函数接受一个标志参数叫 re.DOTALL, \n",
    "# 它可以让正则表达式中的点(.)匹配包括换行符在内的任意字符\n",
    "comment = re.compile(r'/\\*(.*?)\\*/', re.DOTALL)\n",
    "m = comment.findall(text2)\n",
    "print(m)"
   ]
  },
  {
   "source": [
    "## 2.9 将Unicode文本标准化\n",
    "\n",
    "problem: 你正在处理Unicode字符串，需要确保所有字符串在底层有相同的表示。\n",
    "\n",
    "ans: import unicodedata"
   ],
   "cell_type": "markdown",
   "metadata": {}
  },
  {
   "cell_type": "code",
   "execution_count": 5,
   "metadata": {
    "tags": []
   },
   "outputs": [
    {
     "output_type": "stream",
     "name": "stdout",
     "text": "Spicy Jalapeño\nSpicy Jalapeño\n14 15\n"
    }
   ],
   "source": [
    "s1 = 'Spicy Jalape\\u00f1o'\n",
    "s2 = 'Spicy Jalapen\\u0303o'\n",
    "print(s1)\n",
    "print(s2)\n",
    "print(len(s1), len(s2))"
   ]
  },
  {
   "cell_type": "code",
   "execution_count": 13,
   "metadata": {
    "tags": []
   },
   "outputs": [
    {
     "output_type": "stream",
     "name": "stdout",
     "text": "True\n'Spicy Jalape\\xf1o'\nTrue\n'Spicy Jalapen\\u0303o'\n"
    }
   ],
   "source": [
    "import unicodedata\n",
    "\n",
    "# 'NFC'表示字符应该是整体组成(比如可能的话就使用单一编码)，而'NFD'表示字符应该分解为多个组合字符表示。\n",
    "t1 = unicodedata.normalize('NFC', s1)\n",
    "t2 = unicodedata.normalize('NFC', s2)\n",
    "print(t1 == t2)\n",
    "print(ascii(t1))\n",
    "\n",
    "t3 = unicodedata.normalize('NFD', s1)\n",
    "t4 = unicodedata.normalize('NFD', s2)\n",
    "print(t3 == t4)\n",
    "print(ascii(t3))"
   ]
  },
  {
   "cell_type": "code",
   "execution_count": 15,
   "metadata": {},
   "outputs": [
    {
     "output_type": "execute_result",
     "data": {
      "text/plain": "'Spicy Jalapeno'"
     },
     "metadata": {},
     "execution_count": 15
    }
   ],
   "source": [
    "# 测试字符类的工具函数\n",
    "t1 = unicodedata.normalize('NFD', s1)\n",
    "''.join(c for c in t1 if not unicodedata.combining(c))"
   ]
  },
  {
   "source": [
    "## 2.10 在正则式中使用Unicode\n",
    "\n",
    "problem: 你正在使用正则表达式处理文本，但是关注的是Unicode字符处理。\n",
    "\n",
    "ans: 转义序列"
   ],
   "cell_type": "markdown",
   "metadata": {}
  },
  {
   "cell_type": "code",
   "execution_count": 21,
   "metadata": {
    "tags": []
   },
   "outputs": [
    {
     "output_type": "stream",
     "name": "stdout",
     "text": "<re.Match object; span=(0, 3), match='123'>\n<re.Match object; span=(0, 3), match='١٢٣'>\n"
    }
   ],
   "source": [
    "# 默认情况下 re 模块已经对一些Unicode字符类有了基本的支持。 \n",
    "# 比如， \\\\d 已经匹配任意的unicode数字字符了。\n",
    "import re\n",
    "num = re.compile('\\d+')\n",
    "# ASCII digits\n",
    "m = num.match('123')\n",
    "print(m)\n",
    "# Arcbic digits\n",
    "m = num.match('\\u0661\\u0662\\u0663')\n",
    "print(m)"
   ]
  },
  {
   "cell_type": "code",
   "execution_count": null,
   "metadata": {},
   "outputs": [],
   "source": [
    "# 如果你想在模式中包含指定的Unicode字符，你可以使用Unicode字符对应的转义序列(比如 \\uFFF 或者 \\UFFFFFFF)\n",
    "arabic = re.compile('[\\u0600-\\u06ff\\u0750-\\u077f\\u08a0-\\u08ff]+)"
   ]
  },
  {
   "cell_type": "code",
   "execution_count": 22,
   "metadata": {
    "tags": []
   },
   "outputs": [
    {
     "output_type": "stream",
     "name": "stdout",
     "text": "<re.Match object; span=(0, 6), match='straße'>\nNone\nSTRASSE\n"
    }
   ],
   "source": [
    "# 当执行匹配和搜索操作的时候，最好是先标准化并且清理所有文本为标准化格式(参考2.9小节)。 \n",
    "# 但是同样也应该注意一些特殊情况，比如在忽略大小写匹配和大小写转换时的行为。\n",
    "pat = re.compile('stra\\u00dfe', re.IGNORECASE)\n",
    "s = 'straße'\n",
    "m = pat.match(s) # Matches\n",
    "print(m)\n",
    "m = pat.match(s.upper()) # Don't match\n",
    "print(m)\n",
    "print(s.upper())"
   ]
  },
  {
   "source": [
    "混合使用Unicode和正则表达式通常会让你抓狂。 如果你真的打算这样做的话，最好考虑下安装第三方正则式库， 它们会为Unicode的大小写转换和其他大量有趣特性提供全面的支持，包括模糊匹配。"
   ],
   "cell_type": "markdown",
   "metadata": {}
  },
  {
   "source": [
    "## 2.11 删除字符串中不需要的字符\n",
    "\n",
    "problem: 你想去掉文本字符串开头，结尾或者中间不想要的字符，比如空白。\n",
    "\n",
    "ans: strip(), istrip(), rstrip()"
   ],
   "cell_type": "markdown",
   "metadata": {}
  },
  {
   "cell_type": "code",
   "execution_count": 2,
   "metadata": {
    "tags": []
   },
   "outputs": [
    {
     "output_type": "stream",
     "name": "stdout",
     "text": "hello world\nhello world \n\n hello world\nhello=====\n-----hello\n"
    }
   ],
   "source": [
    "# Whitespace stripping\n",
    "s = ' hello world \\n'\n",
    "print(s.strip())\n",
    "print(s.lstrip())\n",
    "print(s.rstrip())\n",
    "\n",
    "# Character stripping\n",
    "t = '-----hello====='\n",
    "print(t.strip('-'))\n",
    "print(t.strip('='))"
   ]
  },
  {
   "cell_type": "code",
   "execution_count": 5,
   "metadata": {
    "tags": []
   },
   "outputs": [
    {
     "output_type": "stream",
     "name": "stdout",
     "text": "hello     world\nhelloworld\nhello world\n"
    }
   ],
   "source": [
    "# 需要注意的是去除操作不会对字符串的中间的文本产生任何影响\n",
    "s = ' hello     world \\n'\n",
    "s = s.strip()\n",
    "print(s)\n",
    "\n",
    "# 如果你想处理中间的空格，那么你需要求助其他技术:replace, re\n",
    "print(s.replace(' ', ''))\n",
    "import re\n",
    "print(re.sub('\\s+', ' ', s))"
   ]
  },
  {
   "cell_type": "code",
   "execution_count": null,
   "metadata": {},
   "outputs": [],
   "source": [
    "# 通常情况下你想将字符串 strip 操作和其他迭代操作相结合，比如从文件中读取多行数据。 \n",
    "# 如果是这样的话，那么生成器表达式就可以大显身手了。\n",
    "with open(filename) as f:\n",
    "    lines = (line.strip() for line in f)\n",
    "    for line in lines:\n",
    "        print(line)"
   ]
  },
  {
   "source": [
    "## 2.12 审查清理文本字符串\n",
    "\n",
    "problem: 一些无聊的幼稚黑客在你的网站页面表单中输入文本”pýtĥöñ”，然后你想将这些字符清理掉。\n",
    "\n",
    "ans: str.translate()"
   ],
   "cell_type": "markdown",
   "metadata": {}
  },
  {
   "cell_type": "code",
   "execution_count": 14,
   "metadata": {
    "tags": []
   },
   "outputs": [
    {
     "output_type": "stream",
     "name": "stdout",
     "text": "pýtĥöñ is awesome\n\npýtĥöñ is awesome\n\npython is awesome\n\n"
    }
   ],
   "source": [
    "s = 'pýtĥöñ\\fis\\tawesome\\r\\n'\n",
    "# 第一步是清理空白字符, 先创建一个小的转换表格然后使用 translate() 方法\n",
    "remap = {\n",
    "    ord('\\t') : ' ',\n",
    "    ord('\\f') : ' ',\n",
    "    ord('\\r') : None  # Deleted\n",
    "}\n",
    "a = s.translate(remap)\n",
    "print(a)\n",
    "\n",
    "# 删除所有的和音符\n",
    "import unicodedata\n",
    "import sys\n",
    "# 创建字典，每个Unicode和音符作为键，对应的值全部为 None\n",
    "cmb_chrs = dict.fromkeys(c for c in range(sys.maxunicode)\n",
    "                        if unicodedata.combining(chr(c)))\n",
    "# print(cmb_chrs)\n",
    "b = unicodedata.normalize('NFD', a)\n",
    "print(b)\n",
    "c = b.translate(cmb_chrs)\n",
    "print(c)"
   ]
  },
  {
   "cell_type": "code",
   "execution_count": 20,
   "metadata": {
    "tags": []
   },
   "outputs": [
    {
     "output_type": "stream",
     "name": "stdout",
     "text": "630\n"
    },
    {
     "output_type": "execute_result",
     "data": {
      "text/plain": "'123'"
     },
     "metadata": {},
     "execution_count": 20
    }
   ],
   "source": [
    "# 构造一个将所有Unicode数字字符映射到对应的ASCII字符上的表格\n",
    "digitmap = {c : ord('0') + unicodedata.digit(chr(c))\n",
    "    for c in range(sys.maxunicode)\n",
    "    if unicodedata.category(chr(c)) == 'Nd'}\n",
    "print(len(digitmap))\n",
    "# print(digitmap)\n",
    "# Arabic digits\n",
    "x = '\\u0661\\u0662\\u0663'\n",
    "x.translate(digitmap)"
   ]
  },
  {
   "cell_type": "code",
   "execution_count": 22,
   "metadata": {},
   "outputs": [
    {
     "output_type": "execute_result",
     "data": {
      "text/plain": "'python is awesome\\n'"
     },
     "metadata": {},
     "execution_count": 22
    }
   ],
   "source": [
    "# I/O解码与编码函数:encode(), decode()\n",
    "a = 'pýtĥöñ is awesome\\n'\n",
    "b = unicodedata.normalize('NFD', a)\n",
    "b.encode('ascii', 'ignore').decode('ascii')\n",
    "# 这里的标准化操作将原来的文本分解为单独的和音符。接下来的ASCII编码/解码只是简单的一下子丢弃掉那些字符"
   ]
  },
  {
   "source": [
    "文本字符清理一个最主要的问题应该是运行的性能。一般来讲，代码越简单运行越快。 对于简单的替换操作， str.replace() 方法通常是最快的。"
   ],
   "cell_type": "markdown",
   "metadata": {}
  },
  {
   "source": [
    "## 2.13 字符串对齐\n",
    "\n",
    "problem: 你想通过某种对齐方式来格式化字符串\n",
    "\n",
    "ans: ljust(), rjust(), center(); format()"
   ],
   "cell_type": "markdown",
   "metadata": {}
  },
  {
   "cell_type": "code",
   "execution_count": 34,
   "metadata": {
    "tags": []
   },
   "outputs": [
    {
     "output_type": "stream",
     "name": "stdout",
     "text": "Hello World         \n         Hello World\n    Hello World     \n=========Hello World\n****Hello World*****\n"
    }
   ],
   "source": [
    "text = 'Hello World'\n",
    "s = text.ljust(20)\n",
    "print(s)\n",
    "s = text.rjust(20)\n",
    "print(s)\n",
    "s = text.center(20)\n",
    "print(s)\n",
    "\n",
    "# 所有这些方法都能接受一个可选的填充字符\n",
    "s = text.rjust(20, '=')\n",
    "print(s)\n",
    "s = text.center(20, '*')\n",
    "print(s)"
   ]
  },
  {
   "cell_type": "code",
   "execution_count": 46,
   "metadata": {
    "tags": []
   },
   "outputs": [
    {
     "output_type": "stream",
     "name": "stdout",
     "text": "Hello      World\n"
    },
    {
     "output_type": "execute_result",
     "data": {
      "text/plain": "'   1.23   '"
     },
     "metadata": {},
     "execution_count": 46
    }
   ],
   "source": [
    "# 函数 format() 同样可以用来很容易的对齐字符串。 你要做的就是使用 <, > 或者 ^ 字符后面紧跟一个指定的宽度\n",
    "format(text, '>20')\n",
    "format(text, '<20')\n",
    "format(text, '^20')\n",
    "\n",
    "format(text, '=>20')\n",
    "format(text, '*^20')\n",
    "\n",
    "# 当格式化多个值的时候，这些格式代码也可以被用在 format() 方法中\n",
    "print('{:>10s} {:>10s}'.format('Hello', 'World'))\n",
    "\n",
    "# format() 函数的一个好处是它不仅适用于字符串。它可以用来格式化任何值\n",
    "x = 1.2345\n",
    "format(x, '>10')\n",
    "format(x, '^10.2f')"
   ]
  },
  {
   "source": [
    "## 2.14 合并拼接字符串\n",
    "\n",
    "problem: 你想将几个小的字符串合并为一个大的字符串\n",
    "\n",
    "ans: join(), + "
   ],
   "cell_type": "markdown",
   "metadata": {}
  },
  {
   "cell_type": "code",
   "execution_count": 5,
   "metadata": {
    "tags": []
   },
   "outputs": [
    {
     "output_type": "stream",
     "name": "stdout",
     "text": "Is Chicago Not Chicago?\nIs,Chicago,Not,Chicago?\nIsChicagoNotChicago?\nIs Chicago Not Chicago?\nIs Chicago Not Chicago? Not Chicago?\nIs Chicago Not Chicago? Not Chicago?\nHelloWorld\n"
    }
   ],
   "source": [
    "parts = ['Is', 'Chicago', 'Not', 'Chicago?']\n",
    "print(' '.join(parts))\n",
    "print(','.join(parts))\n",
    "print(''.join(parts))\n",
    "\n",
    "# 如果你仅仅只是合并少数几个字符串，使用加号(+)通常已经足够了\n",
    "a = 'Is Chicago'\n",
    "b = 'Not Chicago?'\n",
    "a += ' ' + b\n",
    "print(a)\n",
    "print('{} {}'.format(a, b))\n",
    "print(a + ' ' + b)\n",
    "\n",
    "# 如果你想在源码中将两个字面字符串合并起来，你只需要简单的将它们放到一起，不需要用加号(+)\n",
    "a = 'Hello' 'World'\n",
    "print(a)"
   ]
  },
  {
   "cell_type": "code",
   "execution_count": null,
   "metadata": {},
   "outputs": [],
   "source": [
    "# 这种写法会比使用 join() 方法运行的要慢一些，因为每一次执行+=操作的时候会创建一个新的字符串对象。 \n",
    "# 你最好是先收集所有的字符串片段然后再将它们连接起来。\n",
    "s = ''\n",
    "for p in parts: \n",
    "    s += p"
   ]
  },
  {
   "cell_type": "code",
   "execution_count": 8,
   "metadata": {
    "tags": []
   },
   "outputs": [
    {
     "output_type": "stream",
     "name": "stdout",
     "text": "ACME,50,91.1\na;b;c\na;b;c\na;b;c\n"
    }
   ],
   "source": [
    "# 一个相对比较聪明的技巧是利用生成器表达式(参考1.19小节)转换数据为字符串的同时合并字符串\n",
    "data = ['ACME', 50, 91.1]\n",
    "print(','.join(str(d) for d in data))\n",
    "\n",
    "a = 'a'\n",
    "b = 'b'\n",
    "c = 'c'\n",
    "\n",
    "# 同样还得注意不必要的字符串连接操作\n",
    "print(a + ';' + b + ';' + c) # ugly\n",
    "print(';'.join([a, b, c])) # still ugly\n",
    "print(a, b, c, sep=';') # better"
   ]
  },
  {
   "cell_type": "code",
   "execution_count": null,
   "metadata": {},
   "outputs": [],
   "source": [
    "# 当混合使用I/O操作和字符串连接操作的时候，有时候需要仔细研究你的程序\n",
    "# Version 1 (string concatenation)\n",
    "f.write(chunk1 + chunk2)\n",
    "\n",
    "# Version 2 (separate I/O operations)\n",
    "f.write(chunk1)\n",
    "f.write(chunk2)"
   ]
  },
  {
   "source": [
    "如果两个字符串很小，那么第一个版本性能会更好些，因为I/O系统调用天生就慢。 另外一方面，如果两个字符串很大，那么第二个版本可能会更加高效， 因为它避免了创建一个很大的临时结果并且要复制大量的内存块数据。"
   ],
   "cell_type": "markdown",
   "metadata": {}
  },
  {
   "source": [
    "如果你准备编写构建大量小字符串的输出代码， 你最好考虑下使用生成器函数，利用yield语句产生输出片段。"
   ],
   "cell_type": "markdown",
   "metadata": {}
  },
  {
   "cell_type": "code",
   "execution_count": 9,
   "metadata": {},
   "outputs": [],
   "source": [
    "def sample():\n",
    "    yield 'Is'\n",
    "    yield 'Chicago'\n",
    "    yield 'Not'\n",
    "    yield 'Chicago?'"
   ]
  },
  {
   "source": [
    "## 2.15 字符串中插入变量\n",
    "\n",
    "problem: 你想创建一个内嵌变量的字符串，变量被它的值所表示的字符串替换掉。\n",
    "\n",
    "ans: "
   ],
   "cell_type": "markdown",
   "metadata": {}
  },
  {
   "source": [
    "# Python并没有对在字符串中简单替换变量值提供直接的支持。 但是通过使用字符串的 format() 方法来解决这个问题。\n",
    "s = '{name} has {n} messages.'\n",
    "print(s.format(name='Guido', n=37))"
   ],
   "cell_type": "code",
   "metadata": {
    "tags": []
   },
   "execution_count": 14,
   "outputs": [
    {
     "output_type": "stream",
     "name": "stdout",
     "text": "Guido has 37 messages.\n"
    }
   ]
  },
  {
   "cell_type": "code",
   "execution_count": 16,
   "metadata": {
    "tags": []
   },
   "outputs": [
    {
     "output_type": "stream",
     "name": "stdout",
     "text": "Guido has 37 messages.\nGuido has 37 messages.\n"
    }
   ],
   "source": [
    "# 或者，如果要被替换的变量能在变量域中找到， 那么你可以结合使用 format_map() 和 vars()\n",
    "name = 'Guido'\n",
    "n = 37\n",
    "print(s.format_map(vars()))\n",
    "\n",
    "# vars() 还有一个有意思的特性就是它也适用于对象实例。\n",
    "class Info:\n",
    "    def __init__(self, name, n):\n",
    "        self.name = name\n",
    "        self.n = n\n",
    "\n",
    "a = Info('Guido', 37)\n",
    "print(s.format_map(vars()))"
   ]
  },
  {
   "cell_type": "code",
   "execution_count": 17,
   "metadata": {},
   "outputs": [
    {
     "output_type": "error",
     "ename": "KeyError",
     "evalue": "'n'",
     "traceback": [
      "\u001b[1;31m---------------------------------------------------------------------------\u001b[0m",
      "\u001b[1;31mKeyError\u001b[0m                                  Traceback (most recent call last)",
      "\u001b[1;32m<ipython-input-17-c773d6181425>\u001b[0m in \u001b[0;36m<module>\u001b[1;34m\u001b[0m\n\u001b[0;32m      1\u001b[0m \u001b[1;31m# format 和 format_map() 的一个缺陷就是它们并不能很好的处理变量缺失的情况，比如\u001b[0m\u001b[1;33m\u001b[0m\u001b[1;33m\u001b[0m\u001b[1;33m\u001b[0m\u001b[0m\n\u001b[1;32m----> 2\u001b[1;33m \u001b[0ms\u001b[0m\u001b[1;33m.\u001b[0m\u001b[0mformat\u001b[0m\u001b[1;33m(\u001b[0m\u001b[0mname\u001b[0m\u001b[1;33m=\u001b[0m\u001b[1;34m'Guido'\u001b[0m\u001b[1;33m)\u001b[0m\u001b[1;33m\u001b[0m\u001b[1;33m\u001b[0m\u001b[0m\n\u001b[0m",
      "\u001b[1;31mKeyError\u001b[0m: 'n'"
     ]
    }
   ],
   "source": [
    "# format 和 format_map() 的一个缺陷就是它们并不能很好的处理变量缺失的情况，比如\n",
    "s.format(name='Guido')"
   ]
  },
  {
   "cell_type": "code",
   "execution_count": 21,
   "metadata": {
    "tags": []
   },
   "outputs": [
    {
     "output_type": "stream",
     "name": "stdout",
     "text": "Guido has {n} messages.\nHello Guido\nYou have 37 messages.\nYour favorite color is {color}.\n"
    }
   ],
   "source": [
    "# 一种避免这种错误的方法是另外定义一个含有 __missing__() 方法的字典对象\n",
    "class safesub(dict):\n",
    "    \"\"\"防止key找不到\"\"\"\n",
    "    def __missing__(self, key):\n",
    "        return '{' + key + '}'\n",
    "\n",
    "# 现在你可以利用这个类包装输入后传递给 format_map() \n",
    "# del n   # Make sure n is undefined\n",
    "print(s.format_map(safesub(vars())))\n",
    "\n",
    "# 如果你发现自己在代码中频繁的执行这些步骤，你可以将变量替换步骤用一个工具函数封装起来。就像下面这样：\n",
    "import sys\n",
    "def sub(text):\n",
    "    # sub() 函数使用 sys._getframe(1) 返回调用者的栈帧, 可以从中访问属性 f_locals 来获得局部变量。 \n",
    "    # f_locals 是一个复制调用函数的本地变量的字典\n",
    "    return text.format_map(safesub(sys._getframe(1).f_locals))\n",
    "\n",
    "# 现在你可以像下面这样写了：\n",
    "name = 'Guido'\n",
    "n = 37\n",
    "print(sub('Hello {name}'))\n",
    "print(sub('You have {n} messages.'))\n",
    "print(sub('Your favorite color is {color}.'))"
   ]
  },
  {
   "source": [
    "## 2.16 以指定列宽格式化字符串\n",
    "\n",
    "problem: 你有一些长字符串，想以指定的列宽将它们重新格式化。\n",
    "\n",
    "ans: `textwrap` 模块"
   ],
   "cell_type": "markdown",
   "metadata": {}
  },
  {
   "cell_type": "code",
   "execution_count": 30,
   "metadata": {
    "tags": []
   },
   "outputs": [
    {
     "output_type": "stream",
     "name": "stdout",
     "text": "Look into my eyes, look into my eyes, the eyes, the eyes, the eyes,\nnot around the eyes, don't look around the eyes, look into my eyes,\nyou're under.\nLook into my eyes, look into my eyes,\nthe eyes, the eyes, the eyes, not around\nthe eyes, don't look around the eyes,\nlook into my eyes, you're under.\n     Look into my eyes, look into my\neyes, the eyes, the eyes, the eyes, not\naround the eyes, don't look around the\neyes, look into my eyes, you're under.\nLook into my eyes, look into my eyes,\n      the eyes, the eyes, the eyes, not\n      around the eyes, don't look around\n      the eyes, look into my eyes,\n      you're under.\n"
    }
   ],
   "source": [
    "s = \"Look into my eyes, look into my eyes, the eyes, the eyes, \\\n",
    "the eyes, not around the eyes, don't look around the eyes, \\\n",
    "look into my eyes, you're under.\"\n",
    "\n",
    "import textwrap\n",
    "\n",
    "print(textwrap.fill(s, 70))\n",
    "print(textwrap.fill(s, 40))\n",
    "\n",
    "print(textwrap.fill(s, 40, initial_indent='     '))\n",
    "print(textwrap.fill(s, 40, subsequent_indent='      '))\n",
    "# fill() 方法接受一些其他可选参数来控制tab，语句结尾等。"
   ]
  },
  {
   "source": [
    "`textwrap` 模块对于字符串打印是非常有用的，特别是当你希望输出自动匹配终端大小的时候。 你可以使用 `os.get_terminal_size()` 方法来获取终端的大小尺寸。"
   ],
   "cell_type": "markdown",
   "metadata": {}
  },
  {
   "cell_type": "code",
   "execution_count": 32,
   "metadata": {},
   "outputs": [],
   "source": [
    "import os\n",
    "os.get_terminal_size().columns"
   ]
  },
  {
   "source": [
    "## 2.17 在字符串中处理html和xml\n",
    "\n",
    "problem: 你想将HTML或者XML实体如 &entity; 或 &#code; 替换为对应的文本。 再者，你需要转换文本中特定的字符(比如<, >, 或 &)。\n",
    "\n",
    "ans: `html.escape()`, `HTMLParser.unescape()`"
   ],
   "cell_type": "markdown",
   "metadata": {}
  },
  {
   "cell_type": "code",
   "execution_count": 2,
   "metadata": {
    "tags": []
   },
   "outputs": [
    {
     "output_type": "stream",
     "name": "stdout",
     "text": "Elements are written as \"<tag>text</tag>\".\nElements are written as &quot;&lt;tag&gt;text&lt;/tag&gt;&quot;.\nElements are written as \"&lt;tag&gt;text&lt;/tag&gt;\".\n"
    }
   ],
   "source": [
    "# 如果你想替换文本字符串中的 ‘<’ 或者 ‘>’ ，使用 html.escape() 函数\n",
    "s = 'Elements are written as \"<tag>text</tag>\".'\n",
    "import html \n",
    "print(s)\n",
    "print(html.escape(s))\n",
    "\n",
    "# Disable escaping of quote\n",
    "print(html.escape(s, quote=False))"
   ]
  },
  {
   "cell_type": "code",
   "execution_count": 4,
   "metadata": {},
   "outputs": [
    {
     "output_type": "execute_result",
     "data": {
      "text/plain": "b'Spicy Jalape&#241;o'"
     },
     "metadata": {},
     "execution_count": 4
    }
   ],
   "source": [
    "# 如果你正在处理的是ASCII文本，并且想将非ASCII文本对应的编码实体嵌入进去， \n",
    "# 可以给某些I/O函数传递参数 errors='xmlcharrefreplace' 来达到这个目。\n",
    "s = 'Spicy Jalapeño'\n",
    "s.encode('ascii', errors='xmlcharrefreplace')"
   ]
  },
  {
   "cell_type": "code",
   "execution_count": 6,
   "metadata": {
    "tags": []
   },
   "outputs": [
    {
     "output_type": "stream",
     "name": "stdout",
     "text": "Spicy \"Jalapeño\".\nThe prompt is >>>\n"
    }
   ],
   "source": [
    "# 如果你接收到了一些含有编码值的原始文本，需要手动去做替换， 通常你只需要使用HTML或者XML解析器的一些相关工具函数/方法即可\n",
    "s = 'Spicy &quot;Jalape&#241;o&quot.'\n",
    "from html.parser import HTMLParser\n",
    "p = HTMLParser()\n",
    "print(p.unescape(s))\n",
    "\n",
    "t = 'The prompt is &gt;&gt;&gt;'\n",
    "from xml.sax.saxutils import unescape\n",
    "print(unescape(t))"
   ]
  },
  {
   "source": [
    "## 2.18 字符串令牌解析\n",
    "\n",
    "problem: 你有一个字符串，想从左至右将其解析为一个令牌流。\n",
    "\n",
    "ans: "
   ],
   "cell_type": "markdown",
   "metadata": {}
  },
  {
   "source": [
    "## 2.19 实现一个简单的递归下降分析器\n",
    "\n",
    "problem: 你想根据一组语法规则解析文本并执行命令，或者构造一个代表输入的抽象语法树。 如果语法非常简单，你可以不去使用一些框架，而是自己写这个解析器。"
   ],
   "cell_type": "markdown",
   "metadata": {}
  },
  {
   "source": [
    "## 2.20 字节字符串上的字符串操作\n",
    "\n",
    "problem: 你想在字节字符串上执行普通的文本操作(比如移除，搜索和替换)。\n",
    "\n",
    "ans: 字节字符串同样也支持大部分和文本字符串一样的内置操作。"
   ],
   "cell_type": "markdown",
   "metadata": {}
  },
  {
   "cell_type": "code",
   "execution_count": 11,
   "metadata": {
    "tags": []
   },
   "outputs": [
    {
     "output_type": "stream",
     "name": "stdout",
     "text": "b'Hello'\nTrue\n[b'Hello', b'World']\nb'Hello Cruel World'\n"
    }
   ],
   "source": [
    "data = b'Hello World'\n",
    "print(data[0:5])\n",
    "print(data.startswith(b'Hello'))\n",
    "print(data.split())\n",
    "print(data.replace(b'Hello', b'Hello Cruel'))"
   ]
  },
  {
   "cell_type": "code",
   "execution_count": 13,
   "metadata": {
    "tags": []
   },
   "outputs": [
    {
     "output_type": "stream",
     "name": "stdout",
     "text": "bytearray(b'Hello')\nTrue\n[bytearray(b'Hello'), bytearray(b'World')]\nbytearray(b'Hello Cruel World')\n"
    }
   ],
   "source": [
    "# 这些操作同样也适用于字节数组\n",
    "data = bytearray(b'Hello World')\n",
    "print(data[0:5])\n",
    "print(data.startswith(b'Hello'))\n",
    "print(data.split())\n",
    "print(data.replace(b'Hello', b'Hello Cruel'))"
   ]
  },
  {
   "cell_type": "code",
   "execution_count": 14,
   "metadata": {},
   "outputs": [
    {
     "output_type": "execute_result",
     "data": {
      "text/plain": "[b'FOO', b'BAR', b'SPAM']"
     },
     "metadata": {},
     "execution_count": 14
    }
   ],
   "source": [
    "# 你可以使用正则表达式匹配字节字符串，但是正则表达式本身必须也是字节串。\n",
    "data = b'FOO:BAR,SPAM'\n",
    "import re\n",
    "# re.split('[:,]', data)\n",
    "re.split(b'[:,]', data)"
   ]
  },
  {
   "source": [
    "大多数情况下，在文本字符串上的操作均可用于字节字符串。 然而，这里也有一些需要注意的不同点。"
   ],
   "cell_type": "markdown",
   "metadata": {}
  },
  {
   "cell_type": "code",
   "execution_count": 17,
   "metadata": {
    "tags": []
   },
   "outputs": [
    {
     "output_type": "stream",
     "name": "stdout",
     "text": "H\ne\n72\n101\n"
    }
   ],
   "source": [
    "# 1. 字节字符串的索引操作返回整数而不是单独字符。\n",
    "a = 'Hello World' # Text string\n",
    "print(a[0])\n",
    "print(a[1])\n",
    "\n",
    "b = b'Hello World' # Byte string\n",
    "print(b[0])\n",
    "print(b[1])"
   ]
  },
  {
   "cell_type": "code",
   "execution_count": 23,
   "metadata": {
    "tags": []
   },
   "outputs": [
    {
     "output_type": "stream",
     "name": "stdout",
     "text": "b'Hello World'\nHello World\nb'ACME              100     490.10'\n"
    }
   ],
   "source": [
    "# 2. 字节字符串不会提供一个美观的字符串表示，也不能很好的打印出来，除非它们先被解码为一个文本字符串。\n",
    "s = b'Hello World'\n",
    "print(s)   # Observe b'...'\n",
    "print(s.decode('ascii'))\n",
    "\n",
    "# 类似的，也不存在任何适用于字节字符串的格式化操作\n",
    "# print(b'%10s %10d %10.2f' % (b'ACME', 100, 490.1))\n",
    "\n",
    "# 如果你想格式化字节字符串，你得先使用标准的文本字符串，然后将其编码为字节字符串。\n",
    "print('{:10s} {:10d} {:10.2f}'.format('ACME', 100, 490.1).encode('ascii'))"
   ]
  },
  {
   "cell_type": "code",
   "execution_count": 27,
   "metadata": {},
   "outputs": [
    {
     "output_type": "execute_result",
     "data": {
      "text/plain": "[b'.git',\n b'.gitignore',\n b'1.data-strcture-and-algorithm.ipynb',\n b'2.string-and-text.ipynb',\n b'jalape\\xc3\\xb1o.txt',\n b'README.md']"
     },
     "metadata": {},
     "execution_count": 27
    }
   ],
   "source": [
    "# 3. 使用字节字符串可能会改变一些操作的语义，特别是那些跟文件系统有关的操作。\n",
    "# Write a UTF-8 filename\n",
    "with open('jalape\\xf1o.txt', 'w') as f:\n",
    "    f.write('spicy')\n",
    "# Get a directory listing\n",
    "import os\n",
    "os.listdir('.')   # Text string (names are decoded)\n",
    "os.listdir(b'.') # Byte string (names left as bytes)"
   ]
  }
 ]
}